{
 "cells": [
  {
   "cell_type": "code",
   "execution_count": null,
   "id": "31cf6e19-0325-49dd-949f-fa1f9a0e6892",
   "metadata": {},
   "outputs": [],
   "source": [
    "# https://www.kaggle.com/datasets/belsonraja/face-mask-dataset-with-and-without-mask"
   ]
  },
  {
   "cell_type": "code",
   "execution_count": null,
   "id": "2a6783e0-2947-45f8-84f1-af18ac8e9268",
   "metadata": {},
   "outputs": [],
   "source": [
    "import os\n",
    "import cv2"
   ]
  },
  {
   "cell_type": "code",
   "execution_count": null,
   "id": "da4494f8-6ae6-4f74-a03b-6cacf6f9421d",
   "metadata": {},
   "outputs": [],
   "source": [
    "from keras.preprocessing import image"
   ]
  },
  {
   "cell_type": "code",
   "execution_count": null,
   "id": "2c6ac18a-4396-43e9-a050-d91bb0e8f6a9",
   "metadata": {},
   "outputs": [],
   "source": [
    "categories = ['with_mask', 'without_mask']"
   ]
  },
  {
   "cell_type": "code",
   "execution_count": null,
   "id": "b03db020-0f91-4c83-9457-1ec77ee43d12",
   "metadata": {},
   "outputs": [],
   "source": [
    "data = []"
   ]
  },
  {
   "cell_type": "code",
   "execution_count": null,
   "id": "f25810d0-dab2-432c-b05a-2eeab8ecbdc7",
   "metadata": {},
   "outputs": [],
   "source": [
    "for cate in categories:\n",
    "    path = os.path.join('train', cate)\n",
    "\n",
    "    label = categories.index(cate)\n",
    "    \n",
    "    for file in os.listdir(path):\n",
    "        img_path = os.path.join(path, file)\n",
    "        img = cv2.imread(img_path)\n",
    "        img = cv2.resize(img,(224,244))\n",
    "        \n",
    "        data.append([img, label])"
   ]
  },
  {
   "cell_type": "code",
   "execution_count": null,
   "id": "67e64c46-2267-4511-b030-d59eac164028",
   "metadata": {
    "scrolled": true
   },
   "outputs": [],
   "source": [
    "data"
   ]
  },
  {
   "cell_type": "code",
   "execution_count": null,
   "id": "3c65f9e4-8faa-4907-8fb9-fcd902eeb426",
   "metadata": {},
   "outputs": [],
   "source": [
    "import random"
   ]
  },
  {
   "cell_type": "code",
   "execution_count": null,
   "id": "95ed23e8-7a9a-4150-8d49-2c1e147a5be8",
   "metadata": {},
   "outputs": [],
   "source": [
    "import numpy as np\n",
    "import pandas as pd"
   ]
  },
  {
   "cell_type": "code",
   "execution_count": null,
   "id": "2a529a4d-6e40-4758-a5b3-dc7090ecdd38",
   "metadata": {},
   "outputs": [],
   "source": [
    "random.shuffle(data)"
   ]
  },
  {
   "cell_type": "code",
   "execution_count": null,
   "id": "6e647763-e96b-46d5-a805-e049d14305b4",
   "metadata": {},
   "outputs": [],
   "source": [
    "X= []\n",
    "Y= []\n",
    "\n",
    "for features, label in data:\n",
    "    X.append(features)\n",
    "    Y.append(label)"
   ]
  },
  {
   "cell_type": "code",
   "execution_count": null,
   "id": "9654178b-d0c2-447c-a685-313254dae1f4",
   "metadata": {},
   "outputs": [],
   "source": [
    "len(X) == len(Y)"
   ]
  },
  {
   "cell_type": "code",
   "execution_count": null,
   "id": "4ffe6aae-841a-4fbe-9ef6-cabead5eac5a",
   "metadata": {},
   "outputs": [],
   "source": [
    "X = np.array(X)\n",
    "Y = np.array(Y)"
   ]
  },
  {
   "cell_type": "code",
   "execution_count": null,
   "id": "f6c4299d-e316-4bf4-a81d-176524c30d65",
   "metadata": {},
   "outputs": [],
   "source": [
    "print(X.shape)\n",
    "print(Y.shape)"
   ]
  },
  {
   "cell_type": "code",
   "execution_count": null,
   "id": "4c43e209-c742-4c00-ae9c-645ce3eef93d",
   "metadata": {},
   "outputs": [],
   "source": [
    "X = X/255"
   ]
  },
  {
   "cell_type": "code",
   "execution_count": null,
   "id": "099088de-9048-458f-bd43-7fcbdb2a86c2",
   "metadata": {},
   "outputs": [],
   "source": [
    "from sklearn.model_selection import train_test_split"
   ]
  },
  {
   "cell_type": "code",
   "execution_count": null,
   "id": "727ba1c9-71cb-4ee0-a6e2-449d02149913",
   "metadata": {},
   "outputs": [],
   "source": [
    "x_train, x_test, y_train, y_test = train_test_split(X,Y, test_size=.2)"
   ]
  },
  {
   "cell_type": "code",
   "execution_count": null,
   "id": "bc86ee2f-f7b0-4452-9ac6-d753f2a75d30",
   "metadata": {},
   "outputs": [],
   "source": [
    "print(x_train.shape)\n",
    "print(x_test.shape)"
   ]
  },
  {
   "cell_type": "code",
   "execution_count": null,
   "id": "0a614cea-2be5-4dab-9c8e-2bbfc74e16f3",
   "metadata": {},
   "outputs": [],
   "source": [
    "from keras.applications.vgg16 import VGG16"
   ]
  },
  {
   "cell_type": "code",
   "execution_count": null,
   "id": "e947ebd2-78bf-4384-ac50-77dbae3bda15",
   "metadata": {},
   "outputs": [],
   "source": [
    "vgg = VGG16()\n",
    "# vgg is a functional model\n",
    "\n",
    "#  we want sequential"
   ]
  },
  {
   "cell_type": "code",
   "execution_count": null,
   "id": "ccddf216-aed4-4d1e-a687-dfffd04ccf05",
   "metadata": {
    "scrolled": true
   },
   "outputs": [],
   "source": [
    "vgg.summary()"
   ]
  },
  {
   "cell_type": "code",
   "execution_count": null,
   "id": "1e7e3c65-747d-4db0-9912-b040c3e5fbad",
   "metadata": {},
   "outputs": [],
   "source": [
    "from keras import Sequential"
   ]
  },
  {
   "cell_type": "code",
   "execution_count": null,
   "id": "15683a3f-ca0d-4123-b992-e4c3d4896953",
   "metadata": {},
   "outputs": [],
   "source": [
    "model = Sequential()"
   ]
  },
  {
   "cell_type": "code",
   "execution_count": null,
   "id": "0ca841f2-da32-45f8-b638-b8c8db20dbfc",
   "metadata": {},
   "outputs": [],
   "source": [
    "for layer in vgg.layers[:-1]:\n",
    "    model.add(layer)"
   ]
  },
  {
   "cell_type": "code",
   "execution_count": null,
   "id": "2efed374-3cba-49bd-b755-41981240e3a5",
   "metadata": {
    "scrolled": true
   },
   "outputs": [],
   "source": [
    "model.summary()"
   ]
  },
  {
   "cell_type": "code",
   "execution_count": null,
   "id": "de085ee7-ab36-46dc-b834-c1e7e4c2b88a",
   "metadata": {},
   "outputs": [],
   "source": [
    "for layer in model.layers:\n",
    "    layer.trainable = False"
   ]
  },
  {
   "cell_type": "code",
   "execution_count": null,
   "id": "d002a1f7-3790-4d89-940f-19b413af63f9",
   "metadata": {
    "scrolled": true
   },
   "outputs": [],
   "source": [
    "model.summary()"
   ]
  },
  {
   "cell_type": "code",
   "execution_count": null,
   "id": "fe2ed338-27b2-4d03-b5a9-99710128dd14",
   "metadata": {},
   "outputs": [],
   "source": [
    "from keras.layers import Dense"
   ]
  },
  {
   "cell_type": "code",
   "execution_count": null,
   "id": "08a5ce12-90d8-4995-aa9e-39b779006d60",
   "metadata": {},
   "outputs": [],
   "source": [
    "model.add(Dense(1,activation='sigmoid'))"
   ]
  },
  {
   "cell_type": "code",
   "execution_count": null,
   "id": "7db148fc-5dc7-40bd-b07b-382c8d29337d",
   "metadata": {
    "scrolled": true
   },
   "outputs": [],
   "source": [
    "model.summary()"
   ]
  },
  {
   "cell_type": "code",
   "execution_count": null,
   "id": "22fcc983-82dc-4988-bc4f-d0de7345d785",
   "metadata": {},
   "outputs": [],
   "source": [
    "model.compile(optimizer = 'Adam', loss = 'binary_crossentropy', metrics =  ['accuracy'])"
   ]
  },
  {
   "cell_type": "code",
   "execution_count": null,
   "id": "39f9533c-f3d2-4310-b2aa-fb353a737342",
   "metadata": {},
   "outputs": [],
   "source": [
    "model.fit(x_train, y_train, epochs= 5, validation_data=(x_test, y_test))"
   ]
  },
  {
   "cell_type": "code",
   "execution_count": null,
   "id": "c471dd65-042f-45ce-b431-30d40df6b597",
   "metadata": {},
   "outputs": [],
   "source": [
    "# import pickle"
   ]
  },
  {
   "cell_type": "code",
   "execution_count": null,
   "id": "060da747-c29b-4a99-9c2c-be43085b8606",
   "metadata": {},
   "outputs": [],
   "source": [
    "# pickle.dump(model, open('face mask.pkl', 'wb'))"
   ]
  },
  {
   "cell_type": "markdown",
   "id": "33dc334d-2f55-4fbb-bb48-b43b4a33b131",
   "metadata": {},
   "source": [
    "# testing model"
   ]
  },
  {
   "cell_type": "raw",
   "id": "34f9cdbc-e668-4abb-b249-d909ac7aedb3",
   "metadata": {},
   "source": [
    "import pickle\n",
    "import cv2"
   ]
  },
  {
   "cell_type": "raw",
   "id": "c90a8e00-f874-4782-bd30-ac5f8e964dd7",
   "metadata": {},
   "source": [
    "model = pickle.load(open('face mask.pkl', 'rb'))"
   ]
  },
  {
   "cell_type": "raw",
   "id": "3903cb60-d37d-4d39-9907-5b0aa5e90165",
   "metadata": {},
   "source": [
    "cap = cv2.VideoCapture(0)"
   ]
  },
  {
   "cell_type": "raw",
   "id": "0b0c9d5e-ce34-4cd5-9aa7-41bdca58df0f",
   "metadata": {},
   "source": [
    "while True:\n",
    "    ret, frame = cap.read()\n",
    "    cv2.imshow('window', frame)\n",
    "\n",
    "    if cv2.waitKey(1) & 0xFF == ord('x'):\n",
    "        break\n",
    "\n",
    "cv2.destroyAllWindows()"
   ]
  },
  {
   "cell_type": "code",
   "execution_count": null,
   "id": "076af489-f77a-4768-b6d8-6ca9fddd2e29",
   "metadata": {},
   "outputs": [],
   "source": [
    "def detect_face_mask(img):\n",
    "    y_pred = model.predict(img.reshape(1, 224, 224, 3)/225.0)\n",
    "    return y_pred[0,0]"
   ]
  },
  {
   "cell_type": "code",
   "execution_count": null,
   "id": "84a13183-c8d4-4832-9e31-a6e8a676c61f",
   "metadata": {},
   "outputs": [],
   "source": [
    "# img = cv2.imread('train/with_mask/with_mask (251).jpg')\n",
    "img = cv2.imread('train/without_mask/without_mask (1).jpg')\n",
    "image = cv2.resize(img,(224,224))\n",
    "print(\"No mask\" if detect_face_mask(image) >= .5 else  \"mask detected\")"
   ]
  },
  {
   "cell_type": "markdown",
   "id": "2107ff37-5acf-4dd8-b3ef-d576121f7f47",
   "metadata": {},
   "source": [
    "for img,label in data:\n",
    "    print('expected :', label)\n",
    "    detect(img)"
   ]
  },
  {
   "cell_type": "code",
   "execution_count": null,
   "id": "faae65c7-1126-471a-b9c1-8c2f3e151bdf",
   "metadata": {},
   "outputs": [],
   "source": [
    "d = {\n",
    "    'name':[],\n",
    "    'label':[],\n",
    "    'predict':[],\n",
    "    'value':[],\n",
    "}\n",
    "\n",
    "for cate in categories:\n",
    "    path = os.path.join('test', cate)\n",
    "\n",
    "    label = categories.index(cate)\n",
    "    \n",
    "    for file in os.listdir(path)[10:20]:\n",
    "        img_path = os.path.join(path, file)\n",
    "        d['name'].append(file)\n",
    "        d['label'].append(label)\n",
    "\n",
    "        smaple1 = cv2.imread(img_path)\n",
    "        image = cv2.resize(smaple1,(224,224))\n",
    "        t1 = detect_face_mask(image)\n",
    "        \n",
    "        d['predict'].append(1 if t1 >= .5 else 0)\n",
    "        d['value'].append(t1)\n",
    "\n",
    "df = pd.DataFrame(d)\n",
    "df"
   ]
  },
  {
   "cell_type": "markdown",
   "id": "303bf936-dfee-42d5-a292-7663a50a1e7c",
   "metadata": {},
   "source": [
    "df = pd.DataFrame(d)\n",
    "df"
   ]
  },
  {
   "cell_type": "code",
   "execution_count": null,
   "id": "4d2f04a1-433f-464c-8ee8-e8f0e4d8fc34",
   "metadata": {},
   "outputs": [],
   "source": []
  }
 ],
 "metadata": {
  "kernelspec": {
   "display_name": "Python 3 (ipykernel)",
   "language": "python",
   "name": "python3"
  },
  "language_info": {
   "codemirror_mode": {
    "name": "ipython",
    "version": 3
   },
   "file_extension": ".py",
   "mimetype": "text/x-python",
   "name": "python",
   "nbconvert_exporter": "python",
   "pygments_lexer": "ipython3",
   "version": "3.12.3"
  }
 },
 "nbformat": 4,
 "nbformat_minor": 5
}
