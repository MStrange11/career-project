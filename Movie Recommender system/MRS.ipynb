{
 "cells": [
  {
   "cell_type": "code",
   "execution_count": 1,
   "id": "87541ba4-fe1a-4b93-b133-eb235003da3b",
   "metadata": {},
   "outputs": [],
   "source": [
    "import pandas as pd\n",
    "import numpy as py"
   ]
  },
  {
   "cell_type": "code",
   "execution_count": 2,
   "id": "df086fb0-a516-4011-9c37-18c824d72e80",
   "metadata": {},
   "outputs": [],
   "source": [
    "movies = pd.read_csv('tmdb_5000_movies.csv')\n",
    "credits = pd.read_csv('tmdb_5000_credits.csv')"
   ]
  },
  {
   "cell_type": "code",
   "execution_count": 3,
   "id": "e5793228-64d9-430b-a3af-70a983370844",
   "metadata": {},
   "outputs": [
    {
     "data": {
      "text/plain": [
       "Index(['budget', 'genres', 'homepage', 'id', 'keywords', 'original_language',\n",
       "       'original_title', 'overview', 'popularity', 'production_companies',\n",
       "       'production_countries', 'release_date', 'revenue', 'runtime',\n",
       "       'spoken_languages', 'status', 'tagline', 'title', 'vote_average',\n",
       "       'vote_count'],\n",
       "      dtype='object')"
      ]
     },
     "execution_count": 3,
     "metadata": {},
     "output_type": "execute_result"
    }
   ],
   "source": [
    "movies.columns"
   ]
  },
  {
   "cell_type": "code",
   "execution_count": 4,
   "id": "332056c2-2321-4688-9eaa-1157c2a60cb2",
   "metadata": {
    "scrolled": true
   },
   "outputs": [
    {
     "name": "stdout",
     "output_type": "stream",
     "text": [
      "T\n",
      "abs\n",
      "add\n",
      "add_prefix\n",
      "add_suffix\n",
      "agg\n",
      "aggregate\n",
      "align\n",
      "all\n",
      "any\n",
      "apply\n",
      "applymap\n",
      "asfreq\n",
      "asof\n",
      "assign\n",
      "astype\n",
      "at\n",
      "at_time\n",
      "attrs\n",
      "axes\n",
      "backfill\n",
      "between_time\n",
      "bfill\n",
      "bool\n",
      "boxplot\n",
      "budget\n",
      "clip\n",
      "columns\n",
      "combine\n",
      "combine_first\n",
      "compare\n",
      "convert_dtypes\n",
      "copy\n",
      "corr\n",
      "corrwith\n",
      "count\n",
      "cov\n",
      "cummax\n",
      "cummin\n",
      "cumprod\n",
      "cumsum\n",
      "describe\n",
      "diff\n",
      "div\n",
      "divide\n",
      "dot\n",
      "drop\n",
      "drop_duplicates\n",
      "droplevel\n",
      "dropna\n",
      "dtypes\n",
      "duplicated\n",
      "empty\n",
      "eq\n",
      "equals\n",
      "eval\n",
      "ewm\n",
      "expanding\n",
      "explode\n",
      "ffill\n",
      "fillna\n",
      "filter\n",
      "first\n",
      "first_valid_index\n",
      "flags\n",
      "floordiv\n",
      "from_dict\n",
      "from_records\n",
      "ge\n",
      "genres\n",
      "get\n",
      "groupby\n",
      "gt\n",
      "head\n",
      "hist\n",
      "homepage\n",
      "iat\n",
      "id\n",
      "idxmax\n",
      "idxmin\n",
      "iloc\n",
      "index\n",
      "infer_objects\n",
      "info\n",
      "insert\n",
      "interpolate\n",
      "isetitem\n",
      "isin\n",
      "isna\n",
      "isnull\n",
      "items\n",
      "iterrows\n",
      "itertuples\n",
      "join\n",
      "keys\n",
      "keywords\n",
      "kurt\n",
      "kurtosis\n",
      "last\n",
      "last_valid_index\n",
      "le\n",
      "loc\n",
      "lt\n",
      "map\n",
      "mask\n",
      "max\n",
      "mean\n",
      "median\n",
      "melt\n",
      "memory_usage\n",
      "merge\n",
      "min\n",
      "mod\n",
      "mode\n",
      "mul\n",
      "multiply\n",
      "ndim\n",
      "ne\n",
      "nlargest\n",
      "notna\n",
      "notnull\n",
      "nsmallest\n",
      "nunique\n",
      "original_language\n",
      "original_title\n",
      "overview\n",
      "pad\n",
      "pct_change\n",
      "pipe\n",
      "pivot\n",
      "pivot_table\n",
      "plot\n",
      "pop\n",
      "popularity\n",
      "pow\n",
      "prod\n",
      "product\n",
      "production_companies\n",
      "production_countries\n",
      "quantile\n",
      "query\n",
      "radd\n",
      "rank\n",
      "rdiv\n",
      "reindex\n",
      "reindex_like\n",
      "release_date\n",
      "rename\n",
      "rename_axis\n",
      "reorder_levels\n",
      "replace\n",
      "resample\n",
      "reset_index\n",
      "revenue\n",
      "rfloordiv\n",
      "rmod\n",
      "rmul\n",
      "rolling\n",
      "round\n",
      "rpow\n",
      "rsub\n",
      "rtruediv\n",
      "runtime\n",
      "sample\n",
      "select_dtypes\n",
      "sem\n",
      "set_axis\n",
      "set_flags\n",
      "set_index\n",
      "shape\n",
      "shift\n",
      "size\n",
      "skew\n",
      "sort_index\n",
      "sort_values\n",
      "spoken_languages\n",
      "squeeze\n",
      "stack\n",
      "status\n",
      "std\n",
      "style\n",
      "sub\n",
      "subtract\n",
      "sum\n",
      "swapaxes\n",
      "swaplevel\n",
      "tagline\n",
      "tail\n",
      "take\n",
      "title\n",
      "to_clipboard\n",
      "to_csv\n",
      "to_dict\n",
      "to_excel\n",
      "to_feather\n",
      "to_gbq\n",
      "to_hdf\n",
      "to_html\n",
      "to_json\n",
      "to_latex\n",
      "to_markdown\n",
      "to_numpy\n",
      "to_orc\n",
      "to_parquet\n",
      "to_period\n",
      "to_pickle\n",
      "to_records\n",
      "to_sql\n",
      "to_stata\n",
      "to_string\n",
      "to_timestamp\n",
      "to_xarray\n",
      "to_xml\n",
      "transform\n",
      "transpose\n",
      "truediv\n",
      "truncate\n",
      "tz_convert\n",
      "tz_localize\n",
      "unstack\n",
      "update\n",
      "value_counts\n",
      "values\n",
      "var\n",
      "vote_average\n",
      "vote_count\n",
      "where\n",
      "xs\n"
     ]
    }
   ],
   "source": [
    "for i in dir(movies):\n",
    "    if not i[0] == \"_\" : print(i)"
   ]
  },
  {
   "cell_type": "code",
   "execution_count": 5,
   "id": "0900d6ae-6d99-4779-884b-ecd0ef920760",
   "metadata": {},
   "outputs": [],
   "source": [
    "movies2 = movies.merge(credits,on='title')"
   ]
  },
  {
   "cell_type": "code",
   "execution_count": 6,
   "id": "980ad3a3-8d63-4d28-9095-7f3896135758",
   "metadata": {},
   "outputs": [
    {
     "name": "stdout",
     "output_type": "stream",
     "text": [
      "(4803, 20)\n",
      "(4803, 4)\n"
     ]
    }
   ],
   "source": [
    "print(movies.shape)\n",
    "print(credits.shape)"
   ]
  },
  {
   "cell_type": "code",
   "execution_count": 7,
   "id": "3283bb9d-38cd-422e-8e48-0412e60eedb3",
   "metadata": {},
   "outputs": [
    {
     "data": {
      "text/plain": [
       "original_language\n",
       "en    4510\n",
       "fr      70\n",
       "es      32\n",
       "zh      27\n",
       "de      27\n",
       "hi      19\n",
       "ja      16\n",
       "it      14\n",
       "ko      12\n",
       "cn      12\n",
       "ru      11\n",
       "pt       9\n",
       "da       7\n",
       "sv       5\n",
       "nl       4\n",
       "fa       4\n",
       "th       3\n",
       "he       3\n",
       "ta       2\n",
       "cs       2\n",
       "ro       2\n",
       "id       2\n",
       "ar       2\n",
       "vi       1\n",
       "sl       1\n",
       "ps       1\n",
       "no       1\n",
       "ky       1\n",
       "hu       1\n",
       "pl       1\n",
       "af       1\n",
       "nb       1\n",
       "tr       1\n",
       "is       1\n",
       "xx       1\n",
       "te       1\n",
       "el       1\n",
       "Name: count, dtype: int64"
      ]
     },
     "execution_count": 7,
     "metadata": {},
     "output_type": "execute_result"
    }
   ],
   "source": [
    "movies2.original_language.value_counts()"
   ]
  },
  {
   "cell_type": "code",
   "execution_count": 8,
   "id": "f37b8a18-c75f-4363-8bd8-d0271ba7e1ef",
   "metadata": {},
   "outputs": [
    {
     "data": {
      "text/html": [
       "<div>\n",
       "<style scoped>\n",
       "    .dataframe tbody tr th:only-of-type {\n",
       "        vertical-align: middle;\n",
       "    }\n",
       "\n",
       "    .dataframe tbody tr th {\n",
       "        vertical-align: top;\n",
       "    }\n",
       "\n",
       "    .dataframe thead th {\n",
       "        text-align: right;\n",
       "    }\n",
       "</style>\n",
       "<table border=\"1\" class=\"dataframe\">\n",
       "  <thead>\n",
       "    <tr style=\"text-align: right;\">\n",
       "      <th></th>\n",
       "      <th>budget</th>\n",
       "      <th>genres</th>\n",
       "      <th>homepage</th>\n",
       "      <th>id</th>\n",
       "      <th>keywords</th>\n",
       "      <th>original_language</th>\n",
       "      <th>original_title</th>\n",
       "      <th>overview</th>\n",
       "      <th>popularity</th>\n",
       "      <th>production_companies</th>\n",
       "      <th>...</th>\n",
       "      <th>runtime</th>\n",
       "      <th>spoken_languages</th>\n",
       "      <th>status</th>\n",
       "      <th>tagline</th>\n",
       "      <th>title</th>\n",
       "      <th>vote_average</th>\n",
       "      <th>vote_count</th>\n",
       "      <th>movie_id</th>\n",
       "      <th>cast</th>\n",
       "      <th>crew</th>\n",
       "    </tr>\n",
       "  </thead>\n",
       "  <tbody>\n",
       "    <tr>\n",
       "      <th>0</th>\n",
       "      <td>237000000</td>\n",
       "      <td>[{\"id\": 28, \"name\": \"Action\"}, {\"id\": 12, \"nam...</td>\n",
       "      <td>http://www.avatarmovie.com/</td>\n",
       "      <td>19995</td>\n",
       "      <td>[{\"id\": 1463, \"name\": \"culture clash\"}, {\"id\":...</td>\n",
       "      <td>en</td>\n",
       "      <td>Avatar</td>\n",
       "      <td>In the 22nd century, a paraplegic Marine is di...</td>\n",
       "      <td>150.437577</td>\n",
       "      <td>[{\"name\": \"Ingenious Film Partners\", \"id\": 289...</td>\n",
       "      <td>...</td>\n",
       "      <td>162.0</td>\n",
       "      <td>[{\"iso_639_1\": \"en\", \"name\": \"English\"}, {\"iso...</td>\n",
       "      <td>Released</td>\n",
       "      <td>Enter the World of Pandora.</td>\n",
       "      <td>Avatar</td>\n",
       "      <td>7.2</td>\n",
       "      <td>11800</td>\n",
       "      <td>19995</td>\n",
       "      <td>[{\"cast_id\": 242, \"character\": \"Jake Sully\", \"...</td>\n",
       "      <td>[{\"credit_id\": \"52fe48009251416c750aca23\", \"de...</td>\n",
       "    </tr>\n",
       "  </tbody>\n",
       "</table>\n",
       "<p>1 rows × 23 columns</p>\n",
       "</div>"
      ],
      "text/plain": [
       "      budget                                             genres  \\\n",
       "0  237000000  [{\"id\": 28, \"name\": \"Action\"}, {\"id\": 12, \"nam...   \n",
       "\n",
       "                      homepage     id  \\\n",
       "0  http://www.avatarmovie.com/  19995   \n",
       "\n",
       "                                            keywords original_language  \\\n",
       "0  [{\"id\": 1463, \"name\": \"culture clash\"}, {\"id\":...                en   \n",
       "\n",
       "  original_title                                           overview  \\\n",
       "0         Avatar  In the 22nd century, a paraplegic Marine is di...   \n",
       "\n",
       "   popularity                               production_companies  ... runtime  \\\n",
       "0  150.437577  [{\"name\": \"Ingenious Film Partners\", \"id\": 289...  ...   162.0   \n",
       "\n",
       "                                    spoken_languages    status  \\\n",
       "0  [{\"iso_639_1\": \"en\", \"name\": \"English\"}, {\"iso...  Released   \n",
       "\n",
       "                       tagline   title vote_average vote_count movie_id  \\\n",
       "0  Enter the World of Pandora.  Avatar          7.2      11800    19995   \n",
       "\n",
       "                                                cast  \\\n",
       "0  [{\"cast_id\": 242, \"character\": \"Jake Sully\", \"...   \n",
       "\n",
       "                                                crew  \n",
       "0  [{\"credit_id\": \"52fe48009251416c750aca23\", \"de...  \n",
       "\n",
       "[1 rows x 23 columns]"
      ]
     },
     "execution_count": 8,
     "metadata": {},
     "output_type": "execute_result"
    }
   ],
   "source": [
    "movies2.head(1)"
   ]
  },
  {
   "cell_type": "code",
   "execution_count": 9,
   "id": "69cf23c3-e44d-4da7-a46f-8ffccca20e1b",
   "metadata": {},
   "outputs": [
    {
     "name": "stdout",
     "output_type": "stream",
     "text": [
      "<class 'pandas.core.frame.DataFrame'>\n",
      "RangeIndex: 4803 entries, 0 to 4802\n",
      "Data columns (total 20 columns):\n",
      " #   Column                Non-Null Count  Dtype  \n",
      "---  ------                --------------  -----  \n",
      " 0   budget                4803 non-null   int64  \n",
      " 1   genres                4803 non-null   object \n",
      " 2   homepage              1712 non-null   object \n",
      " 3   id                    4803 non-null   int64  \n",
      " 4   keywords              4803 non-null   object \n",
      " 5   original_language     4803 non-null   object \n",
      " 6   original_title        4803 non-null   object \n",
      " 7   overview              4800 non-null   object \n",
      " 8   popularity            4803 non-null   float64\n",
      " 9   production_companies  4803 non-null   object \n",
      " 10  production_countries  4803 non-null   object \n",
      " 11  release_date          4802 non-null   object \n",
      " 12  revenue               4803 non-null   int64  \n",
      " 13  runtime               4801 non-null   float64\n",
      " 14  spoken_languages      4803 non-null   object \n",
      " 15  status                4803 non-null   object \n",
      " 16  tagline               3959 non-null   object \n",
      " 17  title                 4803 non-null   object \n",
      " 18  vote_average          4803 non-null   float64\n",
      " 19  vote_count            4803 non-null   int64  \n",
      "dtypes: float64(3), int64(4), object(13)\n",
      "memory usage: 750.6+ KB\n"
     ]
    }
   ],
   "source": [
    "movies.info()"
   ]
  },
  {
   "cell_type": "code",
   "execution_count": 10,
   "id": "4175f080-1e2b-4b54-8a32-b26b90c97691",
   "metadata": {},
   "outputs": [],
   "source": [
    "# columns that matter\n",
    "impCols = ['genres','id','keywords','title','overview','cast','crew']"
   ]
  },
  {
   "cell_type": "code",
   "execution_count": 11,
   "id": "821d8f0e-4c93-43b5-8d47-8538f9a77ad9",
   "metadata": {},
   "outputs": [],
   "source": [
    "movies2 = movies2[impCols]"
   ]
  },
  {
   "cell_type": "code",
   "execution_count": 12,
   "id": "87426ad1-d538-47ea-8736-4a743f08c8bd",
   "metadata": {},
   "outputs": [
    {
     "data": {
      "text/html": [
       "<div>\n",
       "<style scoped>\n",
       "    .dataframe tbody tr th:only-of-type {\n",
       "        vertical-align: middle;\n",
       "    }\n",
       "\n",
       "    .dataframe tbody tr th {\n",
       "        vertical-align: top;\n",
       "    }\n",
       "\n",
       "    .dataframe thead th {\n",
       "        text-align: right;\n",
       "    }\n",
       "</style>\n",
       "<table border=\"1\" class=\"dataframe\">\n",
       "  <thead>\n",
       "    <tr style=\"text-align: right;\">\n",
       "      <th></th>\n",
       "      <th>genres</th>\n",
       "      <th>id</th>\n",
       "      <th>keywords</th>\n",
       "      <th>title</th>\n",
       "      <th>overview</th>\n",
       "      <th>cast</th>\n",
       "      <th>crew</th>\n",
       "    </tr>\n",
       "  </thead>\n",
       "  <tbody>\n",
       "    <tr>\n",
       "      <th>3572</th>\n",
       "      <td>[{\"id\": 27, \"name\": \"Horror\"}, {\"id\": 53, \"nam...</td>\n",
       "      <td>227348</td>\n",
       "      <td>[{\"id\": 6152, \"name\": \"supernatural\"}, {\"id\": ...</td>\n",
       "      <td>Paranormal Activity: The Marked Ones</td>\n",
       "      <td>Seventeen-year-old Jesse has been hearing terr...</td>\n",
       "      <td>[{\"cast_id\": 21, \"character\": \"Jesse Arista\", ...</td>\n",
       "      <td>[{\"credit_id\": \"5345887c0e0a267bcd001f50\", \"de...</td>\n",
       "    </tr>\n",
       "  </tbody>\n",
       "</table>\n",
       "</div>"
      ],
      "text/plain": [
       "                                                 genres      id  \\\n",
       "3572  [{\"id\": 27, \"name\": \"Horror\"}, {\"id\": 53, \"nam...  227348   \n",
       "\n",
       "                                               keywords  \\\n",
       "3572  [{\"id\": 6152, \"name\": \"supernatural\"}, {\"id\": ...   \n",
       "\n",
       "                                     title  \\\n",
       "3572  Paranormal Activity: The Marked Ones   \n",
       "\n",
       "                                               overview  \\\n",
       "3572  Seventeen-year-old Jesse has been hearing terr...   \n",
       "\n",
       "                                                   cast  \\\n",
       "3572  [{\"cast_id\": 21, \"character\": \"Jesse Arista\", ...   \n",
       "\n",
       "                                                   crew  \n",
       "3572  [{\"credit_id\": \"5345887c0e0a267bcd001f50\", \"de...  "
      ]
     },
     "execution_count": 12,
     "metadata": {},
     "output_type": "execute_result"
    }
   ],
   "source": [
    "movies2.sample()"
   ]
  },
  {
   "cell_type": "code",
   "execution_count": 13,
   "id": "87f01834-741c-4e5e-bdbb-d943db15b772",
   "metadata": {},
   "outputs": [
    {
     "data": {
      "text/plain": [
       "'[{\"id\": 1463, \"name\": \"culture clash\"}, {\"id\": 2964, \"name\": \"future\"}, {\"id\": 3386, \"name\": \"space war\"}, {\"id\": 3388, \"name\": \"space colony\"}, {\"id\": 3679, \"name\": \"society\"}, {\"id\": 3801, \"name\": \"space travel\"}, {\"id\": 9685, \"name\": \"futuristic\"}, {\"id\": 9840, \"name\": \"romance\"}, {\"id\": 9882, \"name\": \"space\"}, {\"id\": 9951, \"name\": \"alien\"}, {\"id\": 10148, \"name\": \"tribe\"}, {\"id\": 10158, \"name\": \"alien planet\"}, {\"id\": 10987, \"name\": \"cgi\"}, {\"id\": 11399, \"name\": \"marine\"}, {\"id\": 13065, \"name\": \"soldier\"}, {\"id\": 14643, \"name\": \"battle\"}, {\"id\": 14720, \"name\": \"love affair\"}, {\"id\": 165431, \"name\": \"anti war\"}, {\"id\": 193554, \"name\": \"power relations\"}, {\"id\": 206690, \"name\": \"mind and soul\"}, {\"id\": 209714, \"name\": \"3d\"}]'"
      ]
     },
     "execution_count": 13,
     "metadata": {},
     "output_type": "execute_result"
    }
   ],
   "source": [
    "movies2.keywords[0]"
   ]
  },
  {
   "cell_type": "code",
   "execution_count": 14,
   "id": "4614cbf6-1072-474d-bb67-594d44024ae3",
   "metadata": {},
   "outputs": [
    {
     "data": {
      "text/plain": [
       "(4809, 7)"
      ]
     },
     "execution_count": 14,
     "metadata": {},
     "output_type": "execute_result"
    }
   ],
   "source": [
    "movies2.shape"
   ]
  },
  {
   "cell_type": "code",
   "execution_count": 15,
   "id": "99f7297a-a403-4086-832d-c3d03a314175",
   "metadata": {},
   "outputs": [
    {
     "data": {
      "text/plain": [
       "genres      0\n",
       "id          0\n",
       "keywords    0\n",
       "title       0\n",
       "overview    3\n",
       "cast        0\n",
       "crew        0\n",
       "dtype: int64"
      ]
     },
     "execution_count": 15,
     "metadata": {},
     "output_type": "execute_result"
    }
   ],
   "source": [
    "movies2.isna().sum()"
   ]
  },
  {
   "cell_type": "code",
   "execution_count": 16,
   "id": "f142647b-44f0-4910-9125-562fb6aeb21d",
   "metadata": {},
   "outputs": [],
   "source": [
    "movies2.dropna(inplace=True)"
   ]
  },
  {
   "cell_type": "code",
   "execution_count": 17,
   "id": "ea8857da-b455-4022-977e-efb674926c2a",
   "metadata": {},
   "outputs": [
    {
     "data": {
      "text/plain": [
       "0"
      ]
     },
     "execution_count": 17,
     "metadata": {},
     "output_type": "execute_result"
    }
   ],
   "source": [
    "movies2.duplicated().sum()"
   ]
  },
  {
   "cell_type": "code",
   "execution_count": 18,
   "id": "0ae48451-8bee-479d-be47-47291a544e2c",
   "metadata": {},
   "outputs": [],
   "source": [
    "# movies2.iloc[0].genres\n",
    "\n",
    "#'[{\"id\": 28, \"name\": \"Action\"}, {\"id\": 12, \"name\": \"Adventure\"}, {\"id\": 14, \"name\": \"Fantasy\"}, {\"id\": 878, \"name\": \"Science Fiction\"}]'\n",
    "# convert format into list of names\n",
    "\n",
    "def convertFormat(obj, limit=0):\n",
    "    return [n['name'] for n in eval(obj)][:limit] if limit else [n['name'] for n in eval(obj)]\n",
    "    \n",
    "# convertFormat(movies2.iloc[0].genres)"
   ]
  },
  {
   "cell_type": "code",
   "execution_count": 19,
   "id": "cd7d1e28-2adb-4f7b-a01f-84930d4fa634",
   "metadata": {},
   "outputs": [],
   "source": [
    "movies2.genres = movies2.genres.apply(convertFormat)"
   ]
  },
  {
   "cell_type": "code",
   "execution_count": 20,
   "id": "6ca26ad8-036d-4eca-b54d-322e2f72b1b3",
   "metadata": {},
   "outputs": [
    {
     "data": {
      "text/html": [
       "<div>\n",
       "<style scoped>\n",
       "    .dataframe tbody tr th:only-of-type {\n",
       "        vertical-align: middle;\n",
       "    }\n",
       "\n",
       "    .dataframe tbody tr th {\n",
       "        vertical-align: top;\n",
       "    }\n",
       "\n",
       "    .dataframe thead th {\n",
       "        text-align: right;\n",
       "    }\n",
       "</style>\n",
       "<table border=\"1\" class=\"dataframe\">\n",
       "  <thead>\n",
       "    <tr style=\"text-align: right;\">\n",
       "      <th></th>\n",
       "      <th>genres</th>\n",
       "      <th>id</th>\n",
       "      <th>keywords</th>\n",
       "      <th>title</th>\n",
       "      <th>overview</th>\n",
       "      <th>cast</th>\n",
       "      <th>crew</th>\n",
       "    </tr>\n",
       "  </thead>\n",
       "  <tbody>\n",
       "    <tr>\n",
       "      <th>0</th>\n",
       "      <td>[Action, Adventure, Fantasy, Science Fiction]</td>\n",
       "      <td>19995</td>\n",
       "      <td>[{\"id\": 1463, \"name\": \"culture clash\"}, {\"id\":...</td>\n",
       "      <td>Avatar</td>\n",
       "      <td>In the 22nd century, a paraplegic Marine is di...</td>\n",
       "      <td>[{\"cast_id\": 242, \"character\": \"Jake Sully\", \"...</td>\n",
       "      <td>[{\"credit_id\": \"52fe48009251416c750aca23\", \"de...</td>\n",
       "    </tr>\n",
       "  </tbody>\n",
       "</table>\n",
       "</div>"
      ],
      "text/plain": [
       "                                          genres     id  \\\n",
       "0  [Action, Adventure, Fantasy, Science Fiction]  19995   \n",
       "\n",
       "                                            keywords   title  \\\n",
       "0  [{\"id\": 1463, \"name\": \"culture clash\"}, {\"id\":...  Avatar   \n",
       "\n",
       "                                            overview  \\\n",
       "0  In the 22nd century, a paraplegic Marine is di...   \n",
       "\n",
       "                                                cast  \\\n",
       "0  [{\"cast_id\": 242, \"character\": \"Jake Sully\", \"...   \n",
       "\n",
       "                                                crew  \n",
       "0  [{\"credit_id\": \"52fe48009251416c750aca23\", \"de...  "
      ]
     },
     "execution_count": 20,
     "metadata": {},
     "output_type": "execute_result"
    }
   ],
   "source": [
    "movies2.head(1)"
   ]
  },
  {
   "cell_type": "code",
   "execution_count": 21,
   "id": "7d1d4a12-3d4f-4622-bd9e-72027c017868",
   "metadata": {},
   "outputs": [],
   "source": [
    "movies2.keywords = movies2.keywords.apply(convertFormat)"
   ]
  },
  {
   "cell_type": "code",
   "execution_count": 22,
   "id": "d2563e9a-ca59-4a75-9189-a105937e4138",
   "metadata": {},
   "outputs": [],
   "source": [
    "movies2.cast = movies2.cast.apply(convertFormat,args=(3,))"
   ]
  },
  {
   "cell_type": "code",
   "execution_count": 23,
   "id": "77b6bc34-a9eb-4629-a77b-ad2e8c2a634c",
   "metadata": {},
   "outputs": [],
   "source": [
    "def getDirector(obj,job='Director'):\n",
    "    return [n['name'] for n in eval(obj) if n['job'] == job]\n",
    "\n",
    "# movies2.crew.apply(getDirector)"
   ]
  },
  {
   "cell_type": "code",
   "execution_count": 24,
   "id": "053dec60-617f-42ad-b73e-d7b23799b8bb",
   "metadata": {},
   "outputs": [],
   "source": [
    "movies2.crew = movies2.crew.apply(getDirector)"
   ]
  },
  {
   "cell_type": "code",
   "execution_count": 25,
   "id": "f9d4a554-d595-4a03-8013-c8391699f925",
   "metadata": {},
   "outputs": [
    {
     "data": {
      "text/html": [
       "<div>\n",
       "<style scoped>\n",
       "    .dataframe tbody tr th:only-of-type {\n",
       "        vertical-align: middle;\n",
       "    }\n",
       "\n",
       "    .dataframe tbody tr th {\n",
       "        vertical-align: top;\n",
       "    }\n",
       "\n",
       "    .dataframe thead th {\n",
       "        text-align: right;\n",
       "    }\n",
       "</style>\n",
       "<table border=\"1\" class=\"dataframe\">\n",
       "  <thead>\n",
       "    <tr style=\"text-align: right;\">\n",
       "      <th></th>\n",
       "      <th>genres</th>\n",
       "      <th>id</th>\n",
       "      <th>keywords</th>\n",
       "      <th>title</th>\n",
       "      <th>overview</th>\n",
       "      <th>cast</th>\n",
       "      <th>crew</th>\n",
       "    </tr>\n",
       "  </thead>\n",
       "  <tbody>\n",
       "    <tr>\n",
       "      <th>0</th>\n",
       "      <td>[Action, Adventure, Fantasy, Science Fiction]</td>\n",
       "      <td>19995</td>\n",
       "      <td>[culture clash, future, space war, space colon...</td>\n",
       "      <td>Avatar</td>\n",
       "      <td>In the 22nd century, a paraplegic Marine is di...</td>\n",
       "      <td>[Sam Worthington, Zoe Saldana, Sigourney Weaver]</td>\n",
       "      <td>[James Cameron]</td>\n",
       "    </tr>\n",
       "  </tbody>\n",
       "</table>\n",
       "</div>"
      ],
      "text/plain": [
       "                                          genres     id  \\\n",
       "0  [Action, Adventure, Fantasy, Science Fiction]  19995   \n",
       "\n",
       "                                            keywords   title  \\\n",
       "0  [culture clash, future, space war, space colon...  Avatar   \n",
       "\n",
       "                                            overview  \\\n",
       "0  In the 22nd century, a paraplegic Marine is di...   \n",
       "\n",
       "                                               cast             crew  \n",
       "0  [Sam Worthington, Zoe Saldana, Sigourney Weaver]  [James Cameron]  "
      ]
     },
     "execution_count": 25,
     "metadata": {},
     "output_type": "execute_result"
    }
   ],
   "source": [
    "movies2.head(1)"
   ]
  },
  {
   "cell_type": "code",
   "execution_count": 26,
   "id": "23e610b2-1166-4423-af65-e4f708d52ec9",
   "metadata": {},
   "outputs": [],
   "source": [
    "movies2.overview=movies2.overview.apply(lambda x: x.split())"
   ]
  },
  {
   "cell_type": "code",
   "execution_count": 27,
   "id": "561ffc0b-dc74-46a9-bd90-43e04434ed9b",
   "metadata": {},
   "outputs": [],
   "source": [
    "def removeWS(obj):\n",
    "    return [n.replace(' ','') for n in obj]"
   ]
  },
  {
   "cell_type": "code",
   "execution_count": 28,
   "id": "646b7590-4cb5-4391-947e-927d7119c2e5",
   "metadata": {},
   "outputs": [],
   "source": [
    "movies2.genres=movies2.genres.apply(removeWS)\n",
    "movies2.keywords=movies2.keywords.apply(removeWS)\n",
    "movies2.cast=movies2.cast.apply(removeWS)\n",
    "movies2.crew=movies2.crew.apply(removeWS)"
   ]
  },
  {
   "cell_type": "code",
   "execution_count": 29,
   "id": "9c2c767c-1ba8-425f-9db0-dff8c08a94a7",
   "metadata": {},
   "outputs": [
    {
     "data": {
      "text/html": [
       "<div>\n",
       "<style scoped>\n",
       "    .dataframe tbody tr th:only-of-type {\n",
       "        vertical-align: middle;\n",
       "    }\n",
       "\n",
       "    .dataframe tbody tr th {\n",
       "        vertical-align: top;\n",
       "    }\n",
       "\n",
       "    .dataframe thead th {\n",
       "        text-align: right;\n",
       "    }\n",
       "</style>\n",
       "<table border=\"1\" class=\"dataframe\">\n",
       "  <thead>\n",
       "    <tr style=\"text-align: right;\">\n",
       "      <th></th>\n",
       "      <th>genres</th>\n",
       "      <th>id</th>\n",
       "      <th>keywords</th>\n",
       "      <th>title</th>\n",
       "      <th>overview</th>\n",
       "      <th>cast</th>\n",
       "      <th>crew</th>\n",
       "    </tr>\n",
       "  </thead>\n",
       "  <tbody>\n",
       "    <tr>\n",
       "      <th>0</th>\n",
       "      <td>[Action, Adventure, Fantasy, ScienceFiction]</td>\n",
       "      <td>19995</td>\n",
       "      <td>[cultureclash, future, spacewar, spacecolony, ...</td>\n",
       "      <td>Avatar</td>\n",
       "      <td>[In, the, 22nd, century,, a, paraplegic, Marin...</td>\n",
       "      <td>[SamWorthington, ZoeSaldana, SigourneyWeaver]</td>\n",
       "      <td>[JamesCameron]</td>\n",
       "    </tr>\n",
       "    <tr>\n",
       "      <th>1</th>\n",
       "      <td>[Adventure, Fantasy, Action]</td>\n",
       "      <td>285</td>\n",
       "      <td>[ocean, drugabuse, exoticisland, eastindiatrad...</td>\n",
       "      <td>Pirates of the Caribbean: At World's End</td>\n",
       "      <td>[Captain, Barbossa,, long, believed, to, be, d...</td>\n",
       "      <td>[JohnnyDepp, OrlandoBloom, KeiraKnightley]</td>\n",
       "      <td>[GoreVerbinski]</td>\n",
       "    </tr>\n",
       "  </tbody>\n",
       "</table>\n",
       "</div>"
      ],
      "text/plain": [
       "                                         genres     id  \\\n",
       "0  [Action, Adventure, Fantasy, ScienceFiction]  19995   \n",
       "1                  [Adventure, Fantasy, Action]    285   \n",
       "\n",
       "                                            keywords  \\\n",
       "0  [cultureclash, future, spacewar, spacecolony, ...   \n",
       "1  [ocean, drugabuse, exoticisland, eastindiatrad...   \n",
       "\n",
       "                                      title  \\\n",
       "0                                    Avatar   \n",
       "1  Pirates of the Caribbean: At World's End   \n",
       "\n",
       "                                            overview  \\\n",
       "0  [In, the, 22nd, century,, a, paraplegic, Marin...   \n",
       "1  [Captain, Barbossa,, long, believed, to, be, d...   \n",
       "\n",
       "                                            cast             crew  \n",
       "0  [SamWorthington, ZoeSaldana, SigourneyWeaver]   [JamesCameron]  \n",
       "1     [JohnnyDepp, OrlandoBloom, KeiraKnightley]  [GoreVerbinski]  "
      ]
     },
     "execution_count": 29,
     "metadata": {},
     "output_type": "execute_result"
    }
   ],
   "source": [
    "movies2.head(2)"
   ]
  },
  {
   "cell_type": "code",
   "execution_count": 30,
   "id": "9fdf6967-6fc1-4c6f-8d46-0424ad49ea67",
   "metadata": {},
   "outputs": [],
   "source": [
    "movies2['tags'] = movies2.overview+movies2.keywords+movies2.cast+movies2.crew"
   ]
  },
  {
   "cell_type": "code",
   "execution_count": 31,
   "id": "5e8be6af-fd7b-477f-99eb-714e90f6545c",
   "metadata": {},
   "outputs": [
    {
     "data": {
      "text/plain": [
       "Index(['genres', 'id', 'keywords', 'title', 'overview', 'cast', 'crew',\n",
       "       'tags'],\n",
       "      dtype='object')"
      ]
     },
     "execution_count": 31,
     "metadata": {},
     "output_type": "execute_result"
    }
   ],
   "source": [
    "movies2.columns"
   ]
  },
  {
   "cell_type": "code",
   "execution_count": 32,
   "id": "5369de43-7277-4d68-9eb6-c191661a4f3f",
   "metadata": {},
   "outputs": [],
   "source": [
    "movies3 = movies2[['id','title','tags']]"
   ]
  },
  {
   "cell_type": "code",
   "execution_count": 33,
   "id": "0cfcdd93-94d9-4abd-8b81-ca148bd01eda",
   "metadata": {},
   "outputs": [
    {
     "data": {
      "text/html": [
       "<div>\n",
       "<style scoped>\n",
       "    .dataframe tbody tr th:only-of-type {\n",
       "        vertical-align: middle;\n",
       "    }\n",
       "\n",
       "    .dataframe tbody tr th {\n",
       "        vertical-align: top;\n",
       "    }\n",
       "\n",
       "    .dataframe thead th {\n",
       "        text-align: right;\n",
       "    }\n",
       "</style>\n",
       "<table border=\"1\" class=\"dataframe\">\n",
       "  <thead>\n",
       "    <tr style=\"text-align: right;\">\n",
       "      <th></th>\n",
       "      <th>id</th>\n",
       "      <th>title</th>\n",
       "      <th>tags</th>\n",
       "    </tr>\n",
       "  </thead>\n",
       "  <tbody>\n",
       "    <tr>\n",
       "      <th>0</th>\n",
       "      <td>19995</td>\n",
       "      <td>Avatar</td>\n",
       "      <td>[In, the, 22nd, century,, a, paraplegic, Marin...</td>\n",
       "    </tr>\n",
       "  </tbody>\n",
       "</table>\n",
       "</div>"
      ],
      "text/plain": [
       "      id   title                                               tags\n",
       "0  19995  Avatar  [In, the, 22nd, century,, a, paraplegic, Marin..."
      ]
     },
     "execution_count": 33,
     "metadata": {},
     "output_type": "execute_result"
    }
   ],
   "source": [
    "movies3.head(1)"
   ]
  },
  {
   "cell_type": "code",
   "execution_count": 34,
   "id": "d89f78e4-71bb-44d0-8863-317032d6f66c",
   "metadata": {},
   "outputs": [
    {
     "name": "stderr",
     "output_type": "stream",
     "text": [
      "C:\\Users\\jynts\\AppData\\Local\\Temp\\ipykernel_12572\\3256881877.py:1: SettingWithCopyWarning: \n",
      "A value is trying to be set on a copy of a slice from a DataFrame.\n",
      "Try using .loc[row_indexer,col_indexer] = value instead\n",
      "\n",
      "See the caveats in the documentation: https://pandas.pydata.org/pandas-docs/stable/user_guide/indexing.html#returning-a-view-versus-a-copy\n",
      "  movies3.tags=movies3.tags.apply(lambda x: \" \".join(x))\n"
     ]
    }
   ],
   "source": [
    "movies3.tags=movies3.tags.apply(lambda x: \" \".join(x))"
   ]
  },
  {
   "cell_type": "code",
   "execution_count": 35,
   "id": "5fd269c9-f705-45a7-af1a-8fb5f97226e2",
   "metadata": {},
   "outputs": [
    {
     "name": "stderr",
     "output_type": "stream",
     "text": [
      "C:\\Users\\jynts\\AppData\\Local\\Temp\\ipykernel_12572\\3270373427.py:1: SettingWithCopyWarning: \n",
      "A value is trying to be set on a copy of a slice from a DataFrame.\n",
      "Try using .loc[row_indexer,col_indexer] = value instead\n",
      "\n",
      "See the caveats in the documentation: https://pandas.pydata.org/pandas-docs/stable/user_guide/indexing.html#returning-a-view-versus-a-copy\n",
      "  movies3.tags=movies3.tags.apply(lambda x: x.lower())\n"
     ]
    }
   ],
   "source": [
    "movies3.tags=movies3.tags.apply(lambda x: x.lower())"
   ]
  },
  {
   "cell_type": "code",
   "execution_count": 36,
   "id": "c8321fd4-6172-4c8c-8e02-4d9f60f35e07",
   "metadata": {},
   "outputs": [
    {
     "data": {
      "text/plain": [
       "'in the 22nd century, a paraplegic marine is dispatched to the moon pandora on a unique mission, but becomes torn between following orders and protecting an alien civilization. cultureclash future spacewar spacecolony society spacetravel futuristic romance space alien tribe alienplanet cgi marine soldier battle loveaffair antiwar powerrelations mindandsoul 3d samworthington zoesaldana sigourneyweaver jamescameron'"
      ]
     },
     "execution_count": 36,
     "metadata": {},
     "output_type": "execute_result"
    }
   ],
   "source": [
    "movies3.tags[0]"
   ]
  },
  {
   "cell_type": "code",
   "execution_count": 37,
   "id": "0255a168-f576-44dc-8dfa-26e98f8c4aeb",
   "metadata": {},
   "outputs": [
    {
     "data": {
      "text/html": [
       "<div>\n",
       "<style scoped>\n",
       "    .dataframe tbody tr th:only-of-type {\n",
       "        vertical-align: middle;\n",
       "    }\n",
       "\n",
       "    .dataframe tbody tr th {\n",
       "        vertical-align: top;\n",
       "    }\n",
       "\n",
       "    .dataframe thead th {\n",
       "        text-align: right;\n",
       "    }\n",
       "</style>\n",
       "<table border=\"1\" class=\"dataframe\">\n",
       "  <thead>\n",
       "    <tr style=\"text-align: right;\">\n",
       "      <th></th>\n",
       "      <th>id</th>\n",
       "      <th>title</th>\n",
       "      <th>tags</th>\n",
       "    </tr>\n",
       "  </thead>\n",
       "  <tbody>\n",
       "    <tr>\n",
       "      <th>0</th>\n",
       "      <td>19995</td>\n",
       "      <td>Avatar</td>\n",
       "      <td>in the 22nd century, a paraplegic marine is di...</td>\n",
       "    </tr>\n",
       "  </tbody>\n",
       "</table>\n",
       "</div>"
      ],
      "text/plain": [
       "      id   title                                               tags\n",
       "0  19995  Avatar  in the 22nd century, a paraplegic marine is di..."
      ]
     },
     "execution_count": 37,
     "metadata": {},
     "output_type": "execute_result"
    }
   ],
   "source": [
    "movies3.head(1)"
   ]
  },
  {
   "cell_type": "code",
   "execution_count": 64,
   "id": "47c04af0-20b2-453f-9c7e-b065b8c7c434",
   "metadata": {},
   "outputs": [],
   "source": [
    "from nltk.stem.porter import PorterStemmer \n",
    "ps = PorterStemmer()\n",
    "# steming -> \n",
    "# [love, loving, lovely] converts into one entity"
   ]
  },
  {
   "cell_type": "code",
   "execution_count": 65,
   "id": "448e2251-869a-429e-88e2-1a53246369c4",
   "metadata": {},
   "outputs": [
    {
     "data": {
      "text/plain": [
       "'love'"
      ]
     },
     "execution_count": 65,
     "metadata": {},
     "output_type": "execute_result"
    }
   ],
   "source": [
    "# example\n",
    "ps.stem('loved')"
   ]
  },
  {
   "cell_type": "code",
   "execution_count": 66,
   "id": "526a59cd-bb2b-4d42-a678-759b8b2499cf",
   "metadata": {},
   "outputs": [],
   "source": [
    "def stem(text):\n",
    "    return \" \".join([ps.stem(t) for t in text.split()])"
   ]
  },
  {
   "cell_type": "code",
   "execution_count": 67,
   "id": "64401435-926c-494f-8e37-a8e4e4ca1c6a",
   "metadata": {},
   "outputs": [
    {
     "name": "stderr",
     "output_type": "stream",
     "text": [
      "C:\\Users\\jynts\\AppData\\Local\\Temp\\ipykernel_12572\\2693404502.py:1: SettingWithCopyWarning: \n",
      "A value is trying to be set on a copy of a slice from a DataFrame.\n",
      "Try using .loc[row_indexer,col_indexer] = value instead\n",
      "\n",
      "See the caveats in the documentation: https://pandas.pydata.org/pandas-docs/stable/user_guide/indexing.html#returning-a-view-versus-a-copy\n",
      "  movies3['tags']=movies3['tags'].apply(stem)\n"
     ]
    }
   ],
   "source": [
    "movies3['tags']=movies3['tags'].apply(stem)"
   ]
  },
  {
   "cell_type": "code",
   "execution_count": 68,
   "id": "4bd98f64-4caa-4fb6-b975-dfb2c4dc9b97",
   "metadata": {},
   "outputs": [],
   "source": [
    "from sklearn.feature_extraction.text import CountVectorizer\n",
    "cv = CountVectorizer(max_features=5000, stop_words='english')"
   ]
  },
  {
   "cell_type": "code",
   "execution_count": 69,
   "id": "2d4d99b8-9f3e-4f8d-b516-ed12113f1f3f",
   "metadata": {},
   "outputs": [
    {
     "data": {
      "text/plain": [
       "array([[0, 0, 0, ..., 0, 0, 0],\n",
       "       [0, 0, 0, ..., 0, 0, 0],\n",
       "       [0, 0, 0, ..., 0, 0, 0],\n",
       "       ...,\n",
       "       [0, 0, 0, ..., 0, 0, 0],\n",
       "       [0, 0, 0, ..., 0, 0, 0],\n",
       "       [0, 0, 0, ..., 0, 0, 0]], dtype=int64)"
      ]
     },
     "execution_count": 69,
     "metadata": {},
     "output_type": "execute_result"
    }
   ],
   "source": [
    "vectors = cv.fit_transform(movies3['tags']).toarray()\n",
    "vectors"
   ]
  },
  {
   "cell_type": "code",
   "execution_count": 70,
   "id": "4e4b0076-c513-4a61-a742-f7ca7159fe29",
   "metadata": {},
   "outputs": [
    {
     "data": {
      "text/plain": [
       "array(['000', '007', '10', ..., 'zone', 'zoo', 'zooeydeschanel'],\n",
       "      dtype=object)"
      ]
     },
     "execution_count": 70,
     "metadata": {},
     "output_type": "execute_result"
    }
   ],
   "source": [
    "cv.get_feature_names_out()"
   ]
  },
  {
   "cell_type": "code",
   "execution_count": 71,
   "id": "95e76233-750d-46bd-a286-99bef716790c",
   "metadata": {},
   "outputs": [],
   "source": [
    "from sklearn.metrics.pairwise import cosine_similarity"
   ]
  },
  {
   "cell_type": "code",
   "execution_count": 74,
   "id": "435b422a-a466-48a4-a9b3-f88991c50442",
   "metadata": {},
   "outputs": [
    {
     "name": "stdout",
     "output_type": "stream",
     "text": [
      "[[1.         0.         0.03184649 ... 0.02475369 0.         0.        ]\n",
      " [0.         1.         0.         ... 0.02592379 0.         0.0277137 ]\n",
      " [0.03184649 0.         1.         ... 0.02680281 0.         0.        ]\n",
      " ...\n",
      " [0.02475369 0.02592379 0.02680281 ... 1.         0.0412393  0.04454354]\n",
      " [0.         0.         0.         ... 0.0412393  1.         0.08817334]\n",
      " [0.         0.0277137  0.         ... 0.04454354 0.08817334 1.        ]]\n",
      "(4806, 4806)\n"
     ]
    }
   ],
   "source": [
    "similarity = cosine_similarity(vectors)\n",
    "print(similarity)\n",
    "print(similarity.shape)"
   ]
  },
  {
   "cell_type": "code",
   "execution_count": 91,
   "id": "5193ac12-ca96-4307-833b-27007185e44a",
   "metadata": {},
   "outputs": [],
   "source": [
    "def recommand(movie):\n",
    "    index = movies3[movies3['title'] == movie].index[0]\n",
    "    distances = similarity[index]\n",
    "    similar_movies = sorted(list(enumerate(distances)), reverse=True,key=lambda x:x[1])\n",
    "    movie_name = [movies3.iloc[m[0]].title for m in similar_movies[1:6]]\n",
    "    return movie_name"
   ]
  },
  {
   "cell_type": "code",
   "execution_count": 92,
   "id": "b6bd0881-cffa-4268-a972-64d10bb1de54",
   "metadata": {},
   "outputs": [
    {
     "data": {
      "text/plain": [
       "['The Dark Knight',\n",
       " 'Batman',\n",
       " 'Batman',\n",
       " 'Batman v Superman: Dawn of Justice',\n",
       " 'Synecdoche, New York']"
      ]
     },
     "execution_count": 92,
     "metadata": {},
     "output_type": "execute_result"
    }
   ],
   "source": [
    "recommand('Batman Begins')"
   ]
  },
  {
   "cell_type": "code",
   "execution_count": null,
   "id": "4d774aeb-0eaa-4c4f-abc3-d8e1780c187c",
   "metadata": {},
   "outputs": [],
   "source": []
  }
 ],
 "metadata": {
  "kernelspec": {
   "display_name": "Python 3 (ipykernel)",
   "language": "python",
   "name": "python3"
  },
  "language_info": {
   "codemirror_mode": {
    "name": "ipython",
    "version": 3
   },
   "file_extension": ".py",
   "mimetype": "text/x-python",
   "name": "python",
   "nbconvert_exporter": "python",
   "pygments_lexer": "ipython3",
   "version": "3.12.3"
  }
 },
 "nbformat": 4,
 "nbformat_minor": 5
}
