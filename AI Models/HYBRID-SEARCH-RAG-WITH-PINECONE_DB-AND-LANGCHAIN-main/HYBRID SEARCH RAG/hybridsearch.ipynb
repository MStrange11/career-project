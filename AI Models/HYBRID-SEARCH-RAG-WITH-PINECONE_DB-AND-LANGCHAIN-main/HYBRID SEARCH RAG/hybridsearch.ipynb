{
 "cells": [
  {
   "cell_type": "markdown",
   "id": "e8af42fe",
   "metadata": {},
   "source": [
    "# What is an Index in Pinecone?\n",
    "\n",
    "## 1) An index in Pinecone is a database for vector embeddings.\n",
    "## 2) Imagine you have many items (like documents, images, or text).\n",
    "## 3) You convert these into vectors (number lists that represent their meaning).\n",
    "## 4) You put all those vectors into a Pinecone index.\n",
    "## 5) Later, you can search the index to find similar items — very fast."
   ]
  },
  {
   "cell_type": "code",
   "execution_count": 1,
   "id": "7680605a",
   "metadata": {},
   "outputs": [
    {
     "data": {
      "text/plain": [
       "True"
      ]
     },
     "execution_count": 1,
     "metadata": {},
     "output_type": "execute_result"
    }
   ],
   "source": [
    "import os \n",
    "from dotenv import load_dotenv\n",
    "\n",
    "load_dotenv()"
   ]
  },
  {
   "cell_type": "code",
   "execution_count": 2,
   "id": "b1978a0e",
   "metadata": {},
   "outputs": [],
   "source": [
    "api_key=os.getenv(\"PINECONE_API_KEY\")"
   ]
  },
  {
   "cell_type": "code",
   "execution_count": 3,
   "id": "06c73234",
   "metadata": {},
   "outputs": [],
   "source": [
    "from langchain_community.retrievers import PineconeHybridSearchRetriever"
   ]
  },
  {
   "cell_type": "code",
   "execution_count": 6,
   "id": "65f35b50",
   "metadata": {},
   "outputs": [],
   "source": [
    "from pinecone import Pinecone,ServerlessSpec\n",
    "index_name=\"hybrid-search-langchain-pincone\"\n",
    "\n",
    "## initialize the pincone client\n",
    "pc=Pinecone(api_key=api_key)\n",
    "\n",
    "#create the index \n",
    "if index_name not in pc.list_indexes().names():\n",
    "    pc.create_index(\n",
    "        name=index_name,\n",
    "        dimension=384,\n",
    "        metric='dotproduct',\n",
    "        spec=ServerlessSpec(cloud=\"aws\",region=\"us-east-1\")\n",
    "    )"
   ]
  },
  {
   "cell_type": "code",
   "execution_count": 7,
   "id": "a2ade372",
   "metadata": {},
   "outputs": [
    {
     "data": {
      "text/plain": [
       "<pinecone.db_data.index.Index at 0x13cc3625420>"
      ]
     },
     "execution_count": 7,
     "metadata": {},
     "output_type": "execute_result"
    }
   ],
   "source": [
    "index=pc.Index(index_name)\n",
    "\n",
    "index"
   ]
  },
  {
   "cell_type": "markdown",
   "id": "0ac10e0c",
   "metadata": {},
   "source": [
    "# Vector Embedding and Sparse matrix"
   ]
  },
  {
   "cell_type": "code",
   "execution_count": 9,
   "id": "d36eceba",
   "metadata": {},
   "outputs": [
    {
     "data": {
      "text/plain": [
       "HuggingFaceEmbeddings(model_name='all-MiniLM-L6-v2', cache_folder=None, model_kwargs={}, encode_kwargs={}, query_encode_kwargs={}, multi_process=False, show_progress=False)"
      ]
     },
     "execution_count": 9,
     "metadata": {},
     "output_type": "execute_result"
    }
   ],
   "source": [
    "import os \n",
    "from dotenv import load_dotenv\n",
    "load_dotenv()\n",
    "\n",
    "from langchain_huggingface import HuggingFaceEmbeddings\n",
    "embedings=HuggingFaceEmbeddings(model_name=\"all-MiniLM-L6-v2\")\n",
    "embedings"
   ]
  },
  {
   "cell_type": "code",
   "execution_count": 10,
   "id": "a499bd19",
   "metadata": {},
   "outputs": [
    {
     "data": {
      "text/plain": [
       "<pinecone_text.sparse.bm25_encoder.BM25Encoder at 0x13c8c5999f0>"
      ]
     },
     "execution_count": 10,
     "metadata": {},
     "output_type": "execute_result"
    }
   ],
   "source": [
    "from pinecone_text.sparse import BM25Encoder\n",
    "\n",
    "bm25_encoder=BM25Encoder().default()\n",
    "bm25_encoder"
   ]
  },
  {
   "cell_type": "code",
   "execution_count": 11,
   "id": "49f1be81",
   "metadata": {},
   "outputs": [
    {
     "data": {
      "application/vnd.jupyter.widget-view+json": {
       "model_id": "4b26bd3bf9b84ad19d14c1e729a9350d",
       "version_major": 2,
       "version_minor": 0
      },
      "text/plain": [
       "  0%|          | 0/3 [00:00<?, ?it/s]"
      ]
     },
     "metadata": {},
     "output_type": "display_data"
    }
   ],
   "source": [
    "sentences=[\n",
    "    \"In 2023,I visited Paris\",\n",
    "    \"In 2022,I visited New York\",\n",
    "    \"In 2021,I visited New Orleans\",\n",
    "]\n",
    "\n",
    "# applying TF-IDF values on these sentence\n",
    "bm25_encoder.fit(sentences)\n",
    "\n",
    "## store the values to a json file\n",
    "bm25_encoder.dump(\"bm25_values.json\")\n",
    "\n",
    "## load to your BM25Encoder object\n",
    "bm25_encoder=BM25Encoder().load(\"bm25_values.json\")"
   ]
  },
  {
   "cell_type": "markdown",
   "id": "c6c1d9d1",
   "metadata": {},
   "source": [
    "# creating retriever"
   ]
  },
  {
   "cell_type": "code",
   "execution_count": 14,
   "id": "464d5f6a",
   "metadata": {},
   "outputs": [
    {
     "data": {
      "text/plain": [
       "PineconeHybridSearchRetriever(embeddings=HuggingFaceEmbeddings(model_name='all-MiniLM-L6-v2', cache_folder=None, model_kwargs={}, encode_kwargs={}, query_encode_kwargs={}, multi_process=False, show_progress=False), sparse_encoder=<pinecone_text.sparse.bm25_encoder.BM25Encoder object at 0x0000013C91299E40>, index=<pinecone.db_data.index.Index object at 0x0000013CC3625420>)"
      ]
     },
     "execution_count": 14,
     "metadata": {},
     "output_type": "execute_result"
    }
   ],
   "source": [
    "# Which supports both semantic search and syntactic search\n",
    "retriever=PineconeHybridSearchRetriever(\n",
    "    embeddings=embedings,\n",
    "    sparse_encoder=bm25_encoder,\n",
    "    index=index\n",
    ")\n",
    "\n",
    "retriever"
   ]
  },
  {
   "cell_type": "code",
   "execution_count": 15,
   "id": "668a8c14",
   "metadata": {},
   "outputs": [
    {
     "data": {
      "application/vnd.jupyter.widget-view+json": {
       "model_id": "ca5f2320db0040a787c9f53c24c1ee2a",
       "version_major": 2,
       "version_minor": 0
      },
      "text/plain": [
       "  0%|          | 0/1 [00:00<?, ?it/s]"
      ]
     },
     "metadata": {},
     "output_type": "display_data"
    }
   ],
   "source": [
    "retriever.add_texts(\n",
    "    [\n",
    "    \"In 2023,I visited Paris\",\n",
    "    \"In 2022,I visited New York\",\n",
    "    \"In 2021,I visited New Orleans\",\n",
    "]\n",
    ")"
   ]
  },
  {
   "cell_type": "code",
   "execution_count": 16,
   "id": "8abe33fb",
   "metadata": {},
   "outputs": [
    {
     "data": {
      "text/plain": [
       "[Document(metadata={'score': 0.26056844}, page_content='In 2021,I visited New Orleans'),\n",
       " Document(metadata={'score': 0.245537102}, page_content='In 2022,I visited New York'),\n",
       " Document(metadata={'score': 0.237763956}, page_content='In 2023,I visited Paris')]"
      ]
     },
     "execution_count": 16,
     "metadata": {},
     "output_type": "execute_result"
    }
   ],
   "source": [
    "retriever.invoke(\"which city did i visited last time\")"
   ]
  },
  {
   "cell_type": "code",
   "execution_count": null,
   "id": "300b39cb",
   "metadata": {},
   "outputs": [],
   "source": []
  }
 ],
 "metadata": {
  "kernelspec": {
   "display_name": "Python 3",
   "language": "python",
   "name": "python3"
  },
  "language_info": {
   "codemirror_mode": {
    "name": "ipython",
    "version": 3
   },
   "file_extension": ".py",
   "mimetype": "text/x-python",
   "name": "python",
   "nbconvert_exporter": "python",
   "pygments_lexer": "ipython3",
   "version": "3.10.0"
  }
 },
 "nbformat": 4,
 "nbformat_minor": 5
}
