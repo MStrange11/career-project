{
 "cells": [
  {
   "cell_type": "code",
   "execution_count": 1,
   "id": "30198eda-986c-45ac-b3e5-372d03320a04",
   "metadata": {},
   "outputs": [
    {
     "data": {
      "text/plain": [
       "True"
      ]
     },
     "execution_count": 1,
     "metadata": {},
     "output_type": "execute_result"
    }
   ],
   "source": [
    "from dotenv import load_dotenv\n",
    "load_dotenv()"
   ]
  },
  {
   "cell_type": "code",
   "execution_count": 2,
   "id": "0985e451-374a-4229-b46a-81f156a3b15e",
   "metadata": {},
   "outputs": [],
   "source": [
    "from langchain_google_genai import ChatGoogleGenerativeAI\n",
    "from langchain_core.tools import tool\n",
    "import requests"
   ]
  },
  {
   "cell_type": "code",
   "execution_count": null,
   "id": "bb39dcae-eb3f-4b38-b509-7741a415121d",
   "metadata": {},
   "outputs": [],
   "source": [
    "from langchain_community.tools import DuckDuckGoSearchRun\n",
    "search_tool = DuckDuckGoSearchRun()\n",
    "search_result = search_tool.invoke(\"Top news India gujarat today\")\n",
    "search_result"
   ]
  },
  {
   "cell_type": "code",
   "execution_count": 7,
   "id": "a519afde-f4e0-41b5-b2d4-11aa806216bd",
   "metadata": {},
   "outputs": [
    {
     "data": {
      "text/plain": [
       "[{'title': 'Gujarat News, Latest Gujarat News Headlines & Live Updates - Times …',\n",
       "  'href': 'https://timesofindia.indiatimes.com/india/gujarat',\n",
       "  'body': 'Gujarat News: TOI brings the latest Gujarat news headlines about Gujarat crime, Gujarat politics and Live Updates on Gujarat from Times of India'},\n",
       " {'title': 'Gujarati News, News in Gujarati – ગુજરાત સમાચાર | દિવ્ય ભાસ્કર',\n",
       "  'href': 'https://www.divyabhaskar.co.in/',\n",
       "  'body': 'Gujarati News Samachar - Find all Gujarati News and Samachar, News in Gujarati, Gujarat News, Gujarati News Headlines and Daily Breaking News, Gujarati News Paper in …'},\n",
       " {'title': 'Gujarat News: Latest Updates & Breaking Headlines - India Today',\n",
       "  'href': 'https://www.indiatoday.in/india/gujarat',\n",
       "  'body': 'Gujarat News: Get the latest Gujarat news updates from India Today. Stay informed with breaking news, analysis, and insights on politics, economy, culture, and more from …'},\n",
       " {'title': 'આજના ગુજરાતી ન્યૂઝ | ગુજરાતી સમાચાર | Gujarati News, Today Ne…',\n",
       "  'href': 'https://gujarati.indianexpress.com/top-news/',\n",
       "  'body': '2 days ago · Top News in Gujarati (આજના ટોપ ગુજરાતી સમાચાર): Find Breaking and Top News in Gujarati about Gujarat, India, world, sports, Entertainment, Business, Auto, …'},\n",
       " {'title': 'Gujarat News: Latest and Breaking Gujarat News, Today ... - India TV …',\n",
       "  'href': 'https://www.indiatvnews.com/gujarat',\n",
       "  'body': \"Don't miss out on Gujarat News updates, including elections, movies, crime, political news and more. Stay tuned for the latest Gujarat news headlines and breaking news, …\"}]"
      ]
     },
     "execution_count": 7,
     "metadata": {},
     "output_type": "execute_result"
    }
   ],
   "source": [
    "from ddgs import DDGS\n",
    "\n",
    "# Create an instance of the DDGS class to interact with DuckDuckGo\n",
    "with DDGS() as ddgs:\n",
    "    search_result = ddgs.text(\"Top news India gujarat today\")\n",
    "search_result"
   ]
  },
  {
   "cell_type": "code",
   "execution_count": null,
   "id": "0d847ac5-d37f-4fc1-a223-4f12f3a909b4",
   "metadata": {},
   "outputs": [],
   "source": []
  }
 ],
 "metadata": {
  "kernelspec": {
   "display_name": "Python 3 (ipykernel)",
   "language": "python",
   "name": "python3"
  },
  "language_info": {
   "codemirror_mode": {
    "name": "ipython",
    "version": 3
   },
   "file_extension": ".py",
   "mimetype": "text/x-python",
   "name": "python",
   "nbconvert_exporter": "python",
   "pygments_lexer": "ipython3",
   "version": "3.12.3"
  }
 },
 "nbformat": 4,
 "nbformat_minor": 5
}
