{
 "cells": [
  {
   "cell_type": "code",
   "execution_count": null,
   "id": "549ebd6f-0bec-407a-89e4-37dcb37d46b4",
   "metadata": {},
   "outputs": [],
   "source": []
  },
  {
   "cell_type": "code",
   "execution_count": 1,
   "id": "3dac8271-dfa1-407f-b331-c0ea010ecd14",
   "metadata": {},
   "outputs": [],
   "source": [
    "file = open('text.txt')"
   ]
  },
  {
   "cell_type": "code",
   "execution_count": 10,
   "id": "c1f9bd7b-0cc0-4f20-83dc-df7fe0cf3432",
   "metadata": {},
   "outputs": [],
   "source": [
    "li = []"
   ]
  },
  {
   "cell_type": "code",
   "execution_count": 8,
   "id": "9c6bb8a7-2737-41d3-9c16-ca34ddccadf1",
   "metadata": {},
   "outputs": [],
   "source": [
    "file.seek(0)\n",
    "lis = file.readlines()"
   ]
  },
  {
   "cell_type": "code",
   "execution_count": 43,
   "id": "f1c5ba3f-000e-4c1d-bf26-92724e69fe31",
   "metadata": {},
   "outputs": [],
   "source": [
    "titles=[]"
   ]
  },
  {
   "cell_type": "code",
   "execution_count": 13,
   "id": "df3b0723-0c4a-4ad3-bd76-684fdfdffae9",
   "metadata": {},
   "outputs": [],
   "source": [
    "types=[]"
   ]
  },
  {
   "cell_type": "code",
   "execution_count": 14,
   "id": "fcbc7dc2-6f67-4310-96ab-5861d757d984",
   "metadata": {},
   "outputs": [],
   "source": [
    "uses=[]"
   ]
  },
  {
   "cell_type": "code",
   "execution_count": 48,
   "id": "596f7930-3645-40a1-8baf-d8d9dcc7fac0",
   "metadata": {},
   "outputs": [],
   "source": [
    "code=[]"
   ]
  },
  {
   "cell_type": "code",
   "execution_count": 9,
   "id": "8fccc670-6d94-43cd-b013-821aa8b480f6",
   "metadata": {},
   "outputs": [
    {
     "data": {
      "text/plain": [
       "['1. sns.relplot()\\n',\n",
       " 'Type: Relational plot (scatter or line)\\n',\n",
       " 'Use: To visualize relationships between two variables, useful for both scatter and line plots. Allows adding extra dimensions with parameters like hue, size, and style.\\n',\n",
       " 'Example:\\n',\n",
       " 'python\\n',\n",
       " 'Copy code\\n',\n",
       " 'sns.relplot(data=df, x=\"age\", y=\"income\", hue=\"gender\", kind=\"scatter\")\\n',\n",
       " 'sns.relplot(data=df, x=\"time\", y=\"sales\", kind=\"line\", col=\"region\")\\n',\n",
       " '2. sns.scatterplot()\\n',\n",
       " 'Type: Scatter plot\\n',\n",
       " 'Use: Examines relationships or correlations between two continuous variables.\\n',\n",
       " 'Example:\\n',\n",
       " 'python\\n',\n",
       " 'Copy code\\n',\n",
       " 'sns.scatterplot(data=df, x=\"height\", y=\"weight\", hue=\"gender\", size=\"age\")\\n',\n",
       " '3. sns.lineplot()\\n',\n",
       " 'Type: Line plot\\n',\n",
       " 'Use: Visualizes trends over time or ordered categories, often used in time series.\\n',\n",
       " 'Example:\\n',\n",
       " 'python\\n',\n",
       " 'Copy code\\n',\n",
       " 'sns.lineplot(data=df, x=\"year\", y=\"sales\", hue=\"product\")\\n',\n",
       " '4. sns.catplot()\\n',\n",
       " 'Type: Categorical plot (e.g., bar, box, count)\\n',\n",
       " 'Use: Flexible plot for displaying categorical data with options like bar, box, and count plots.\\n',\n",
       " 'Example:\\n',\n",
       " 'python\\n',\n",
       " 'Copy code\\n',\n",
       " 'sns.catplot(data=df, x=\"day\", y=\"total_bill\", kind=\"box\", hue=\"smoker\")\\n',\n",
       " 'sns.catplot(data=df, x=\"day\", y=\"total_bill\", kind=\"violin\", col=\"time\")\\n',\n",
       " '5. sns.barplot()\\n',\n",
       " 'Type: Bar plot\\n',\n",
       " 'Use: Shows an average (or sum, count, etc.) for each category, used for comparing averages across categories.\\n',\n",
       " 'Example:\\n',\n",
       " 'python\\n',\n",
       " 'Copy code\\n',\n",
       " 'sns.barplot(data=df, x=\"city\", y=\"salary\", hue=\"gender\")\\n',\n",
       " '6. sns.countplot()\\n',\n",
       " 'Type: Count plot\\n',\n",
       " 'Use: Displays the count of occurrences for each category.\\n',\n",
       " 'Example:\\n',\n",
       " 'python\\n',\n",
       " 'Copy code\\n',\n",
       " 'sns.countplot(data=df, x=\"department\")\\n',\n",
       " '7. sns.boxplot()\\n',\n",
       " 'Type: Box plot\\n',\n",
       " 'Use: Visualizes the distribution of a continuous variable through quartiles, with individual outliers shown. Useful for spotting outliers and understanding data spread.\\n',\n",
       " 'Example:\\n',\n",
       " 'python\\n',\n",
       " 'Copy code\\n',\n",
       " 'sns.boxplot(data=df, x=\"gender\", y=\"age\")\\n',\n",
       " '8. sns.violinplot()\\n',\n",
       " 'Type: Violin plot\\n',\n",
       " 'Use: Similar to a box plot but shows a smooth distribution shape. Useful for visualizing distribution shape within categories.\\n',\n",
       " 'Example:\\n',\n",
       " 'python\\n',\n",
       " 'Copy code\\n',\n",
       " 'sns.violinplot(data=df, x=\"class\", y=\"score\", hue=\"gender\", split=True)\\n',\n",
       " '9. sns.stripplot()\\n',\n",
       " 'Type: Strip plot\\n',\n",
       " 'Use: Displays individual data points for a categorical variable. Often combined with box or violin plots for detail.\\n',\n",
       " 'Example:\\n',\n",
       " 'python\\n',\n",
       " 'Copy code\\n',\n",
       " 'sns.stripplot(data=df, x=\"day\", y=\"total_bill\", jitter=True)\\n',\n",
       " '10. sns.swarmplot()\\n',\n",
       " 'Type: Swarm plot\\n',\n",
       " 'Use: Displays individual points without overlap. Useful for showing small sample sizes.\\n',\n",
       " 'Example:\\n',\n",
       " 'python\\n',\n",
       " 'Copy code\\n',\n",
       " 'sns.swarmplot(data=df, x=\"class\", y=\"score\", hue=\"gender\")\\n',\n",
       " '11. sns.histplot()\\n',\n",
       " 'Type: Histogram\\n',\n",
       " 'Use: Displays the distribution of a single variable by counting occurrences in bins.\\n',\n",
       " 'Example:\\n',\n",
       " 'python\\n',\n",
       " 'Copy code\\n',\n",
       " 'sns.histplot(data=df, x=\"age\", bins=30, kde=True)\\n',\n",
       " '12. sns.kdeplot()\\n',\n",
       " 'Type: Kernel Density Estimate (KDE) plot\\n',\n",
       " 'Use: Shows the smooth probability density of a variable. Useful for distribution visualization.\\n',\n",
       " 'Example:\\n',\n",
       " 'python\\n',\n",
       " 'Copy code\\n',\n",
       " 'sns.kdeplot(data=df, x=\"income\", hue=\"gender\", fill=True)\\n',\n",
       " '13. sns.ecdfplot()\\n',\n",
       " 'Type: Empirical Cumulative Distribution Function (ECDF) plot\\n',\n",
       " 'Use: Plots cumulative distribution, useful for understanding proportions.\\n',\n",
       " 'Example:\\n',\n",
       " 'python\\n',\n",
       " 'Copy code\\n',\n",
       " 'sns.ecdfplot(data=df, x=\"salary\", hue=\"department\")\\n',\n",
       " '14. sns.jointplot()\\n',\n",
       " 'Type: Joint plot (scatter + marginal distributions)\\n',\n",
       " 'Use: Shows relationship between two variables and their individual distributions.\\n',\n",
       " 'Example:\\n',\n",
       " 'python\\n',\n",
       " 'Copy code\\n',\n",
       " 'sns.jointplot(data=df, x=\"age\", y=\"income\", kind=\"hex\")\\n',\n",
       " '15. sns.pairplot()\\n',\n",
       " 'Type: Pair plot (scatter plots for all pairs of variables)\\n',\n",
       " 'Use: Displays scatter plots for all variable pairs in the DataFrame, useful for exploring relationships.\\n',\n",
       " 'Example:\\n',\n",
       " 'python\\n',\n",
       " 'Copy code\\n',\n",
       " 'sns.pairplot(data=df, hue=\"species\")\\n',\n",
       " '16. sns.heatmap()\\n',\n",
       " 'Type: Heatmap\\n',\n",
       " 'Use: Shows a matrix of values (e.g., correlations or frequencies) as color-coded cells.\\n',\n",
       " 'Example:\\n',\n",
       " 'python\\n',\n",
       " 'Copy code\\n',\n",
       " 'sns.heatmap(data=corr_matrix, annot=True, cmap=\"coolwarm\")\\n',\n",
       " '17. sns.clustermap()\\n',\n",
       " 'Type: Cluster map\\n',\n",
       " 'Use: Like a heatmap but with clustering applied to rows and columns, useful for identifying patterns in high-dimensional data.\\n',\n",
       " 'Example:\\n',\n",
       " 'python\\n',\n",
       " 'Copy code\\n',\n",
       " 'sns.clustermap(data=correlation_data, cmap=\"viridis\")']"
      ]
     },
     "execution_count": 9,
     "metadata": {},
     "output_type": "execute_result"
    }
   ],
   "source": [
    "lis"
   ]
  },
  {
   "cell_type": "code",
   "execution_count": 44,
   "id": "e6f9fa7f-d840-430d-b79b-62e3364bcc85",
   "metadata": {},
   "outputs": [],
   "source": [
    "for i in lis:\n",
    "    if \".\" in i and (i.index(\".\") == 1 or i.index(\".\") == 2):\n",
    "        titles.append(i.split()[1].replace(\"\\n\",''))"
   ]
  },
  {
   "cell_type": "code",
   "execution_count": 45,
   "id": "62ff56a7-084c-49f8-9309-0457e27d7c43",
   "metadata": {},
   "outputs": [
    {
     "data": {
      "text/plain": [
       "['sns.relplot()',\n",
       " 'sns.scatterplot()',\n",
       " 'sns.lineplot()',\n",
       " 'sns.catplot()',\n",
       " 'sns.barplot()',\n",
       " 'sns.countplot()',\n",
       " 'sns.boxplot()',\n",
       " 'sns.violinplot()',\n",
       " 'sns.stripplot()',\n",
       " 'sns.swarmplot()',\n",
       " 'sns.histplot()',\n",
       " 'sns.kdeplot()',\n",
       " 'sns.ecdfplot()',\n",
       " 'sns.jointplot()',\n",
       " 'sns.pairplot()',\n",
       " 'sns.heatmap()',\n",
       " 'sns.clustermap()']"
      ]
     },
     "execution_count": 45,
     "metadata": {},
     "output_type": "execute_result"
    }
   ],
   "source": [
    "titles"
   ]
  },
  {
   "cell_type": "code",
   "execution_count": 18,
   "id": "c62a5abc-bafa-43eb-8e5f-7bd20a484ea8",
   "metadata": {},
   "outputs": [],
   "source": [
    "for i in lis:\n",
    "    if \"Type\" in i:\n",
    "        types.append(i.split(maxsplit=1)[1].replace(\"\\n\",''))"
   ]
  },
  {
   "cell_type": "code",
   "execution_count": 19,
   "id": "8104a8a4-d6a2-40fb-a373-b05ea48de4d9",
   "metadata": {},
   "outputs": [
    {
     "data": {
      "text/plain": [
       "['Relational plot (scatter or line)',\n",
       " 'Scatter plot',\n",
       " 'Line plot',\n",
       " 'Categorical plot (e.g., bar, box, count)',\n",
       " 'Bar plot',\n",
       " 'Count plot',\n",
       " 'Box plot',\n",
       " 'Violin plot',\n",
       " 'Strip plot',\n",
       " 'Swarm plot',\n",
       " 'Histogram',\n",
       " 'Kernel Density Estimate (KDE) plot',\n",
       " 'Empirical Cumulative Distribution Function (ECDF) plot',\n",
       " 'Joint plot (scatter + marginal distributions)',\n",
       " 'Pair plot (scatter plots for all pairs of variables)',\n",
       " 'Heatmap',\n",
       " 'Cluster map']"
      ]
     },
     "execution_count": 19,
     "metadata": {},
     "output_type": "execute_result"
    }
   ],
   "source": [
    "types"
   ]
  },
  {
   "cell_type": "code",
   "execution_count": 20,
   "id": "5e1b3391-c94e-4a0d-a579-707c39acc869",
   "metadata": {},
   "outputs": [],
   "source": [
    "for i in lis:\n",
    "    if \"Use\" in i:\n",
    "        uses.append(i.split(maxsplit=1)[1].replace(\"\\n\",''))"
   ]
  },
  {
   "cell_type": "code",
   "execution_count": 21,
   "id": "355026ec-1071-4a1c-a7cc-73165782c66d",
   "metadata": {},
   "outputs": [
    {
     "data": {
      "text/plain": [
       "['To visualize relationships between two variables, useful for both scatter and line plots. Allows adding extra dimensions with parameters like hue, size, and style.',\n",
       " 'Examines relationships or correlations between two continuous variables.',\n",
       " 'Visualizes trends over time or ordered categories, often used in time series.',\n",
       " 'Flexible plot for displaying categorical data with options like bar, box, and count plots.',\n",
       " 'Shows an average (or sum, count, etc.) for each category, used for comparing averages across categories.',\n",
       " 'Displays the count of occurrences for each category.',\n",
       " 'Visualizes the distribution of a continuous variable through quartiles, with individual outliers shown. Useful for spotting outliers and understanding data spread.',\n",
       " 'Similar to a box plot but shows a smooth distribution shape. Useful for visualizing distribution shape within categories.',\n",
       " 'Displays individual data points for a categorical variable. Often combined with box or violin plots for detail.',\n",
       " 'Displays individual points without overlap. Useful for showing small sample sizes.',\n",
       " 'Displays the distribution of a single variable by counting occurrences in bins.',\n",
       " 'Shows the smooth probability density of a variable. Useful for distribution visualization.',\n",
       " 'Plots cumulative distribution, useful for understanding proportions.',\n",
       " 'Shows relationship between two variables and their individual distributions.',\n",
       " 'Displays scatter plots for all variable pairs in the DataFrame, useful for exploring relationships.',\n",
       " 'Shows a matrix of values (e.g., correlations or frequencies) as color-coded cells.',\n",
       " 'Like a heatmap but with clustering applied to rows and columns, useful for identifying patterns in high-dimensional data.']"
      ]
     },
     "execution_count": 21,
     "metadata": {},
     "output_type": "execute_result"
    }
   ],
   "source": [
    "uses"
   ]
  },
  {
   "cell_type": "code",
   "execution_count": 49,
   "id": "3e7a8001-fb2e-4196-9fa0-f88f24a2b009",
   "metadata": {},
   "outputs": [],
   "source": [
    "for i in lis:\n",
    "    if \"sns.\" in i and i.index(\"sns.\") == 0:\n",
    "        code.append(i.replace(\"\\n\",''))"
   ]
  },
  {
   "cell_type": "code",
   "execution_count": 50,
   "id": "78cd606e-7f64-499d-8668-2d1e4510880f",
   "metadata": {},
   "outputs": [
    {
     "data": {
      "text/plain": [
       "['sns.relplot(data=df, x=\"age\", y=\"income\", hue=\"gender\", kind=\"scatter\")',\n",
       " 'sns.relplot(data=df, x=\"time\", y=\"sales\", kind=\"line\", col=\"region\")',\n",
       " 'sns.scatterplot(data=df, x=\"height\", y=\"weight\", hue=\"gender\", size=\"age\")',\n",
       " 'sns.lineplot(data=df, x=\"year\", y=\"sales\", hue=\"product\")',\n",
       " 'sns.catplot(data=df, x=\"day\", y=\"total_bill\", kind=\"box\", hue=\"smoker\")',\n",
       " 'sns.catplot(data=df, x=\"day\", y=\"total_bill\", kind=\"violin\", col=\"time\")',\n",
       " 'sns.barplot(data=df, x=\"city\", y=\"salary\", hue=\"gender\")',\n",
       " 'sns.countplot(data=df, x=\"department\")',\n",
       " 'sns.boxplot(data=df, x=\"gender\", y=\"age\")',\n",
       " 'sns.violinplot(data=df, x=\"class\", y=\"score\", hue=\"gender\", split=True)',\n",
       " 'sns.stripplot(data=df, x=\"day\", y=\"total_bill\", jitter=True)',\n",
       " 'sns.swarmplot(data=df, x=\"class\", y=\"score\", hue=\"gender\")',\n",
       " 'sns.histplot(data=df, x=\"age\", bins=30, kde=True)',\n",
       " 'sns.kdeplot(data=df, x=\"income\", hue=\"gender\", fill=True)',\n",
       " 'sns.ecdfplot(data=df, x=\"salary\", hue=\"department\")',\n",
       " 'sns.jointplot(data=df, x=\"age\", y=\"income\", kind=\"hex\")',\n",
       " 'sns.pairplot(data=df, hue=\"species\")',\n",
       " 'sns.heatmap(data=corr_matrix, annot=True, cmap=\"coolwarm\")',\n",
       " 'sns.clustermap(data=correlation_data, cmap=\"viridis\")']"
      ]
     },
     "execution_count": 50,
     "metadata": {},
     "output_type": "execute_result"
    }
   ],
   "source": [
    "code"
   ]
  },
  {
   "cell_type": "code",
   "execution_count": 51,
   "id": "6d4dda55-305f-414c-b926-af0883147c90",
   "metadata": {},
   "outputs": [],
   "source": [
    "code2=[]\n",
    "for i in titles:\n",
    "    j = i.replace(\"()\",'')\n",
    "    c=[]\n",
    "    for k in code:\n",
    "        if j in k:\n",
    "            c.append(k)\n",
    "    code2.append(c)"
   ]
  },
  {
   "cell_type": "code",
   "execution_count": 52,
   "id": "2ec76109-d0b2-40a8-89d9-cb6d5f04e2e2",
   "metadata": {},
   "outputs": [
    {
     "data": {
      "text/plain": [
       "[['sns.relplot(data=df, x=\"age\", y=\"income\", hue=\"gender\", kind=\"scatter\")',\n",
       "  'sns.relplot(data=df, x=\"time\", y=\"sales\", kind=\"line\", col=\"region\")'],\n",
       " ['sns.scatterplot(data=df, x=\"height\", y=\"weight\", hue=\"gender\", size=\"age\")'],\n",
       " ['sns.lineplot(data=df, x=\"year\", y=\"sales\", hue=\"product\")'],\n",
       " ['sns.catplot(data=df, x=\"day\", y=\"total_bill\", kind=\"box\", hue=\"smoker\")',\n",
       "  'sns.catplot(data=df, x=\"day\", y=\"total_bill\", kind=\"violin\", col=\"time\")'],\n",
       " ['sns.barplot(data=df, x=\"city\", y=\"salary\", hue=\"gender\")'],\n",
       " ['sns.countplot(data=df, x=\"department\")'],\n",
       " ['sns.boxplot(data=df, x=\"gender\", y=\"age\")'],\n",
       " ['sns.violinplot(data=df, x=\"class\", y=\"score\", hue=\"gender\", split=True)'],\n",
       " ['sns.stripplot(data=df, x=\"day\", y=\"total_bill\", jitter=True)'],\n",
       " ['sns.swarmplot(data=df, x=\"class\", y=\"score\", hue=\"gender\")'],\n",
       " ['sns.histplot(data=df, x=\"age\", bins=30, kde=True)'],\n",
       " ['sns.kdeplot(data=df, x=\"income\", hue=\"gender\", fill=True)'],\n",
       " ['sns.ecdfplot(data=df, x=\"salary\", hue=\"department\")'],\n",
       " ['sns.jointplot(data=df, x=\"age\", y=\"income\", kind=\"hex\")'],\n",
       " ['sns.pairplot(data=df, hue=\"species\")'],\n",
       " ['sns.heatmap(data=corr_matrix, annot=True, cmap=\"coolwarm\")'],\n",
       " ['sns.clustermap(data=correlation_data, cmap=\"viridis\")']]"
      ]
     },
     "execution_count": 52,
     "metadata": {},
     "output_type": "execute_result"
    }
   ],
   "source": [
    "code2"
   ]
  },
  {
   "cell_type": "code",
   "execution_count": 53,
   "id": "3c3c0f97-dc1b-4741-b7c0-7d37018e6eea",
   "metadata": {},
   "outputs": [],
   "source": [
    "data = {\n",
    "    'title':titles,\n",
    "    'type':types,\n",
    "    'use':uses,\n",
    "    'code':code2\n",
    "}"
   ]
  },
  {
   "cell_type": "code",
   "execution_count": 54,
   "id": "64fd733e-68ee-4784-ad42-866e21425197",
   "metadata": {},
   "outputs": [
    {
     "name": "stdout",
     "output_type": "stream",
     "text": [
      "title 17\n",
      "type 17\n",
      "use 17\n",
      "code 17\n"
     ]
    }
   ],
   "source": [
    "for k,v in data.items():\n",
    "    print(k, len(v))"
   ]
  },
  {
   "cell_type": "code",
   "execution_count": 39,
   "id": "f60c9b26-181b-4d36-a754-d7d2ee948cdc",
   "metadata": {},
   "outputs": [],
   "source": [
    "import pandas as pd"
   ]
  },
  {
   "cell_type": "code",
   "execution_count": 55,
   "id": "66266c9b-4f71-425f-9b42-1c2e4c44a36a",
   "metadata": {},
   "outputs": [],
   "source": [
    "df = pd.DataFrame(data)"
   ]
  },
  {
   "cell_type": "code",
   "execution_count": 56,
   "id": "6f128de1-5dc2-4592-891b-d81ece3f91a8",
   "metadata": {},
   "outputs": [
    {
     "data": {
      "text/html": [
       "<div>\n",
       "<style scoped>\n",
       "    .dataframe tbody tr th:only-of-type {\n",
       "        vertical-align: middle;\n",
       "    }\n",
       "\n",
       "    .dataframe tbody tr th {\n",
       "        vertical-align: top;\n",
       "    }\n",
       "\n",
       "    .dataframe thead th {\n",
       "        text-align: right;\n",
       "    }\n",
       "</style>\n",
       "<table border=\"1\" class=\"dataframe\">\n",
       "  <thead>\n",
       "    <tr style=\"text-align: right;\">\n",
       "      <th></th>\n",
       "      <th>title</th>\n",
       "      <th>type</th>\n",
       "      <th>use</th>\n",
       "      <th>code</th>\n",
       "    </tr>\n",
       "  </thead>\n",
       "  <tbody>\n",
       "    <tr>\n",
       "      <th>0</th>\n",
       "      <td>sns.relplot()</td>\n",
       "      <td>Relational plot (scatter or line)</td>\n",
       "      <td>To visualize relationships between two variabl...</td>\n",
       "      <td>[sns.relplot(data=df, x=\"age\", y=\"income\", hue...</td>\n",
       "    </tr>\n",
       "    <tr>\n",
       "      <th>1</th>\n",
       "      <td>sns.scatterplot()</td>\n",
       "      <td>Scatter plot</td>\n",
       "      <td>Examines relationships or correlations between...</td>\n",
       "      <td>[sns.scatterplot(data=df, x=\"height\", y=\"weigh...</td>\n",
       "    </tr>\n",
       "    <tr>\n",
       "      <th>2</th>\n",
       "      <td>sns.lineplot()</td>\n",
       "      <td>Line plot</td>\n",
       "      <td>Visualizes trends over time or ordered categor...</td>\n",
       "      <td>[sns.lineplot(data=df, x=\"year\", y=\"sales\", hu...</td>\n",
       "    </tr>\n",
       "    <tr>\n",
       "      <th>3</th>\n",
       "      <td>sns.catplot()</td>\n",
       "      <td>Categorical plot (e.g., bar, box, count)</td>\n",
       "      <td>Flexible plot for displaying categorical data ...</td>\n",
       "      <td>[sns.catplot(data=df, x=\"day\", y=\"total_bill\",...</td>\n",
       "    </tr>\n",
       "    <tr>\n",
       "      <th>4</th>\n",
       "      <td>sns.barplot()</td>\n",
       "      <td>Bar plot</td>\n",
       "      <td>Shows an average (or sum, count, etc.) for eac...</td>\n",
       "      <td>[sns.barplot(data=df, x=\"city\", y=\"salary\", hu...</td>\n",
       "    </tr>\n",
       "    <tr>\n",
       "      <th>5</th>\n",
       "      <td>sns.countplot()</td>\n",
       "      <td>Count plot</td>\n",
       "      <td>Displays the count of occurrences for each cat...</td>\n",
       "      <td>[sns.countplot(data=df, x=\"department\")]</td>\n",
       "    </tr>\n",
       "    <tr>\n",
       "      <th>6</th>\n",
       "      <td>sns.boxplot()</td>\n",
       "      <td>Box plot</td>\n",
       "      <td>Visualizes the distribution of a continuous va...</td>\n",
       "      <td>[sns.boxplot(data=df, x=\"gender\", y=\"age\")]</td>\n",
       "    </tr>\n",
       "    <tr>\n",
       "      <th>7</th>\n",
       "      <td>sns.violinplot()</td>\n",
       "      <td>Violin plot</td>\n",
       "      <td>Similar to a box plot but shows a smooth distr...</td>\n",
       "      <td>[sns.violinplot(data=df, x=\"class\", y=\"score\",...</td>\n",
       "    </tr>\n",
       "    <tr>\n",
       "      <th>8</th>\n",
       "      <td>sns.stripplot()</td>\n",
       "      <td>Strip plot</td>\n",
       "      <td>Displays individual data points for a categori...</td>\n",
       "      <td>[sns.stripplot(data=df, x=\"day\", y=\"total_bill...</td>\n",
       "    </tr>\n",
       "    <tr>\n",
       "      <th>9</th>\n",
       "      <td>sns.swarmplot()</td>\n",
       "      <td>Swarm plot</td>\n",
       "      <td>Displays individual points without overlap. Us...</td>\n",
       "      <td>[sns.swarmplot(data=df, x=\"class\", y=\"score\", ...</td>\n",
       "    </tr>\n",
       "    <tr>\n",
       "      <th>10</th>\n",
       "      <td>sns.histplot()</td>\n",
       "      <td>Histogram</td>\n",
       "      <td>Displays the distribution of a single variable...</td>\n",
       "      <td>[sns.histplot(data=df, x=\"age\", bins=30, kde=T...</td>\n",
       "    </tr>\n",
       "    <tr>\n",
       "      <th>11</th>\n",
       "      <td>sns.kdeplot()</td>\n",
       "      <td>Kernel Density Estimate (KDE) plot</td>\n",
       "      <td>Shows the smooth probability density of a vari...</td>\n",
       "      <td>[sns.kdeplot(data=df, x=\"income\", hue=\"gender\"...</td>\n",
       "    </tr>\n",
       "    <tr>\n",
       "      <th>12</th>\n",
       "      <td>sns.ecdfplot()</td>\n",
       "      <td>Empirical Cumulative Distribution Function (EC...</td>\n",
       "      <td>Plots cumulative distribution, useful for unde...</td>\n",
       "      <td>[sns.ecdfplot(data=df, x=\"salary\", hue=\"depart...</td>\n",
       "    </tr>\n",
       "    <tr>\n",
       "      <th>13</th>\n",
       "      <td>sns.jointplot()</td>\n",
       "      <td>Joint plot (scatter + marginal distributions)</td>\n",
       "      <td>Shows relationship between two variables and t...</td>\n",
       "      <td>[sns.jointplot(data=df, x=\"age\", y=\"income\", k...</td>\n",
       "    </tr>\n",
       "    <tr>\n",
       "      <th>14</th>\n",
       "      <td>sns.pairplot()</td>\n",
       "      <td>Pair plot (scatter plots for all pairs of vari...</td>\n",
       "      <td>Displays scatter plots for all variable pairs ...</td>\n",
       "      <td>[sns.pairplot(data=df, hue=\"species\")]</td>\n",
       "    </tr>\n",
       "    <tr>\n",
       "      <th>15</th>\n",
       "      <td>sns.heatmap()</td>\n",
       "      <td>Heatmap</td>\n",
       "      <td>Shows a matrix of values (e.g., correlations o...</td>\n",
       "      <td>[sns.heatmap(data=corr_matrix, annot=True, cma...</td>\n",
       "    </tr>\n",
       "    <tr>\n",
       "      <th>16</th>\n",
       "      <td>sns.clustermap()</td>\n",
       "      <td>Cluster map</td>\n",
       "      <td>Like a heatmap but with clustering applied to ...</td>\n",
       "      <td>[sns.clustermap(data=correlation_data, cmap=\"v...</td>\n",
       "    </tr>\n",
       "  </tbody>\n",
       "</table>\n",
       "</div>"
      ],
      "text/plain": [
       "                title                                               type  \\\n",
       "0       sns.relplot()                  Relational plot (scatter or line)   \n",
       "1   sns.scatterplot()                                       Scatter plot   \n",
       "2      sns.lineplot()                                          Line plot   \n",
       "3       sns.catplot()           Categorical plot (e.g., bar, box, count)   \n",
       "4       sns.barplot()                                           Bar plot   \n",
       "5     sns.countplot()                                         Count plot   \n",
       "6       sns.boxplot()                                           Box plot   \n",
       "7    sns.violinplot()                                        Violin plot   \n",
       "8     sns.stripplot()                                         Strip plot   \n",
       "9     sns.swarmplot()                                         Swarm plot   \n",
       "10     sns.histplot()                                          Histogram   \n",
       "11      sns.kdeplot()                 Kernel Density Estimate (KDE) plot   \n",
       "12     sns.ecdfplot()  Empirical Cumulative Distribution Function (EC...   \n",
       "13    sns.jointplot()      Joint plot (scatter + marginal distributions)   \n",
       "14     sns.pairplot()  Pair plot (scatter plots for all pairs of vari...   \n",
       "15      sns.heatmap()                                            Heatmap   \n",
       "16   sns.clustermap()                                        Cluster map   \n",
       "\n",
       "                                                  use  \\\n",
       "0   To visualize relationships between two variabl...   \n",
       "1   Examines relationships or correlations between...   \n",
       "2   Visualizes trends over time or ordered categor...   \n",
       "3   Flexible plot for displaying categorical data ...   \n",
       "4   Shows an average (or sum, count, etc.) for eac...   \n",
       "5   Displays the count of occurrences for each cat...   \n",
       "6   Visualizes the distribution of a continuous va...   \n",
       "7   Similar to a box plot but shows a smooth distr...   \n",
       "8   Displays individual data points for a categori...   \n",
       "9   Displays individual points without overlap. Us...   \n",
       "10  Displays the distribution of a single variable...   \n",
       "11  Shows the smooth probability density of a vari...   \n",
       "12  Plots cumulative distribution, useful for unde...   \n",
       "13  Shows relationship between two variables and t...   \n",
       "14  Displays scatter plots for all variable pairs ...   \n",
       "15  Shows a matrix of values (e.g., correlations o...   \n",
       "16  Like a heatmap but with clustering applied to ...   \n",
       "\n",
       "                                                 code  \n",
       "0   [sns.relplot(data=df, x=\"age\", y=\"income\", hue...  \n",
       "1   [sns.scatterplot(data=df, x=\"height\", y=\"weigh...  \n",
       "2   [sns.lineplot(data=df, x=\"year\", y=\"sales\", hu...  \n",
       "3   [sns.catplot(data=df, x=\"day\", y=\"total_bill\",...  \n",
       "4   [sns.barplot(data=df, x=\"city\", y=\"salary\", hu...  \n",
       "5            [sns.countplot(data=df, x=\"department\")]  \n",
       "6         [sns.boxplot(data=df, x=\"gender\", y=\"age\")]  \n",
       "7   [sns.violinplot(data=df, x=\"class\", y=\"score\",...  \n",
       "8   [sns.stripplot(data=df, x=\"day\", y=\"total_bill...  \n",
       "9   [sns.swarmplot(data=df, x=\"class\", y=\"score\", ...  \n",
       "10  [sns.histplot(data=df, x=\"age\", bins=30, kde=T...  \n",
       "11  [sns.kdeplot(data=df, x=\"income\", hue=\"gender\"...  \n",
       "12  [sns.ecdfplot(data=df, x=\"salary\", hue=\"depart...  \n",
       "13  [sns.jointplot(data=df, x=\"age\", y=\"income\", k...  \n",
       "14             [sns.pairplot(data=df, hue=\"species\")]  \n",
       "15  [sns.heatmap(data=corr_matrix, annot=True, cma...  \n",
       "16  [sns.clustermap(data=correlation_data, cmap=\"v...  "
      ]
     },
     "execution_count": 56,
     "metadata": {},
     "output_type": "execute_result"
    }
   ],
   "source": [
    "df"
   ]
  },
  {
   "cell_type": "code",
   "execution_count": 57,
   "id": "0e5a9a12-daaa-4ceb-8814-1f0cde39c742",
   "metadata": {},
   "outputs": [],
   "source": [
    "df.to_csv('sns_maps.csv', index=False)"
   ]
  },
  {
   "cell_type": "code",
   "execution_count": null,
   "id": "d3e13f49-b2c9-418f-837e-9a8488f0c06f",
   "metadata": {},
   "outputs": [],
   "source": []
  }
 ],
 "metadata": {
  "kernelspec": {
   "display_name": "Python 3 (ipykernel)",
   "language": "python",
   "name": "python3"
  },
  "language_info": {
   "codemirror_mode": {
    "name": "ipython",
    "version": 3
   },
   "file_extension": ".py",
   "mimetype": "text/x-python",
   "name": "python",
   "nbconvert_exporter": "python",
   "pygments_lexer": "ipython3",
   "version": "3.12.3"
  }
 },
 "nbformat": 4,
 "nbformat_minor": 5
}
