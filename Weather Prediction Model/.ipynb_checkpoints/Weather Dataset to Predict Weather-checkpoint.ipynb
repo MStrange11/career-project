{
 "cells": [
  {
   "cell_type": "code",
   "execution_count": null,
   "id": "2ae1f7c8-bcfb-45d8-9927-c86eba2aab75",
   "metadata": {},
   "outputs": [],
   "source": []
  }
 ],
 "metadata": {
  "kernelspec": {
   "display_name": "Python 3 (ipykernel)",
   "language": "python",
   "name": "python3"
  },
  "language_info": {
   "codemirror_mode": {
    "name": "ipython",
    "version": 3
   },
   "file_extension": ".py",
   "mimetype": "text/x-python",
   "name": "python",
   "nbconvert_exporter": "python",
   "pygments_lexer": "ipython3",
   "version": "3.12.3"
  }
 },
 "nbformat": 4,
 "nbformat_minor": 5
}
